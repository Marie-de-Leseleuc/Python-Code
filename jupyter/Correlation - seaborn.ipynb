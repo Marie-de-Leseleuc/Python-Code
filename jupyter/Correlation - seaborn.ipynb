{
 "cells": [
  {
   "cell_type": "code",
   "execution_count": 1,
   "metadata": {
    "collapsed": false
   },
   "outputs": [],
   "source": [
    "import seaborn as sns\n",
    "import numpy as np\n",
    "import matplotlib.pyplot as plt\n",
    "\n",
    "from io import BytesIO\n",
    "from pandas import read_csv\n",
    "\n",
    "sns.set(style=\"white\")\n"
   ]
  },
  {
   "cell_type": "code",
   "execution_count": 2,
   "metadata": {
    "collapsed": false
   },
   "outputs": [],
   "source": [
    "kw = dict(na_values='NaN', sep=',', encoding='utf-8',\n",
    "          skipinitialspace=True, index_col=False)\n",
    "\n",
    "df = read_csv(\"fish.csv\", **kw)"
   ]
  },
  {
   "cell_type": "code",
   "execution_count": 3,
   "metadata": {
    "collapsed": false
   },
   "outputs": [
    {
     "data": {
      "text/html": [
       "<div>\n",
       "<table border=\"1\" class=\"dataframe\">\n",
       "  <thead>\n",
       "    <tr style=\"text-align: right;\">\n",
       "      <th></th>\n",
       "      <th>Days</th>\n",
       "      <th>ID</th>\n",
       "      <th>Recovery</th>\n",
       "      <th>Extract weight</th>\n",
       "      <th>Lipid %</th>\n",
       "      <th>Weight (g)</th>\n",
       "      <th>Size (cm)</th>\n",
       "      <th>Liver weight (g)</th>\n",
       "      <th>LSI</th>\n",
       "      <th>CF</th>\n",
       "      <th>BDE 47 (ng/g)</th>\n",
       "      <th>BDE 99 (ng/g)</th>\n",
       "    </tr>\n",
       "  </thead>\n",
       "  <tbody>\n",
       "    <tr>\n",
       "      <th>0</th>\n",
       "      <td>0</td>\n",
       "      <td>A</td>\n",
       "      <td>73.21</td>\n",
       "      <td>0.10</td>\n",
       "      <td>3.600000</td>\n",
       "      <td>20.09</td>\n",
       "      <td>12.8</td>\n",
       "      <td>0.14</td>\n",
       "      <td>0.696864</td>\n",
       "      <td>0.957966</td>\n",
       "      <td>0</td>\n",
       "      <td>0</td>\n",
       "    </tr>\n",
       "    <tr>\n",
       "      <th>1</th>\n",
       "      <td>0</td>\n",
       "      <td>B</td>\n",
       "      <td>98.24</td>\n",
       "      <td>0.22</td>\n",
       "      <td>2.272727</td>\n",
       "      <td>36.52</td>\n",
       "      <td>15.5</td>\n",
       "      <td>0.33</td>\n",
       "      <td>0.903614</td>\n",
       "      <td>0.980699</td>\n",
       "      <td>0</td>\n",
       "      <td>0</td>\n",
       "    </tr>\n",
       "    <tr>\n",
       "      <th>2</th>\n",
       "      <td>0</td>\n",
       "      <td>C</td>\n",
       "      <td>89.71</td>\n",
       "      <td>0.18</td>\n",
       "      <td>3.500000</td>\n",
       "      <td>28.74</td>\n",
       "      <td>14.7</td>\n",
       "      <td>0.25</td>\n",
       "      <td>0.869868</td>\n",
       "      <td>0.904763</td>\n",
       "      <td>0</td>\n",
       "      <td>0</td>\n",
       "    </tr>\n",
       "    <tr>\n",
       "      <th>3</th>\n",
       "      <td>1</td>\n",
       "      <td>A</td>\n",
       "      <td>78.40</td>\n",
       "      <td>0.13</td>\n",
       "      <td>1.330769</td>\n",
       "      <td>23.70</td>\n",
       "      <td>14.0</td>\n",
       "      <td>0.15</td>\n",
       "      <td>0.632911</td>\n",
       "      <td>0.863703</td>\n",
       "      <td>0</td>\n",
       "      <td>0</td>\n",
       "    </tr>\n",
       "    <tr>\n",
       "      <th>4</th>\n",
       "      <td>1</td>\n",
       "      <td>B</td>\n",
       "      <td>66.24</td>\n",
       "      <td>0.13</td>\n",
       "      <td>2.838462</td>\n",
       "      <td>32.80</td>\n",
       "      <td>15.0</td>\n",
       "      <td>0.20</td>\n",
       "      <td>0.609756</td>\n",
       "      <td>0.971852</td>\n",
       "      <td>0</td>\n",
       "      <td>0</td>\n",
       "    </tr>\n",
       "  </tbody>\n",
       "</table>\n",
       "</div>"
      ],
      "text/plain": [
       "   Days ID  Recovery  Extract weight   Lipid %  Weight (g)  Size (cm)  \\\n",
       "0     0  A     73.21            0.10  3.600000       20.09       12.8   \n",
       "1     0  B     98.24            0.22  2.272727       36.52       15.5   \n",
       "2     0  C     89.71            0.18  3.500000       28.74       14.7   \n",
       "3     1  A     78.40            0.13  1.330769       23.70       14.0   \n",
       "4     1  B     66.24            0.13  2.838462       32.80       15.0   \n",
       "\n",
       "   Liver weight (g)       LSI        CF  BDE 47 (ng/g)  BDE 99 (ng/g)  \n",
       "0              0.14  0.696864  0.957966              0              0  \n",
       "1              0.33  0.903614  0.980699              0              0  \n",
       "2              0.25  0.869868  0.904763              0              0  \n",
       "3              0.15  0.632911  0.863703              0              0  \n",
       "4              0.20  0.609756  0.971852              0              0  "
      ]
     },
     "execution_count": 3,
     "metadata": {},
     "output_type": "execute_result"
    }
   ],
   "source": [
    "df.head()"
   ]
  },
  {
   "cell_type": "code",
   "execution_count": 4,
   "metadata": {
    "collapsed": false
   },
   "outputs": [],
   "source": [
    "# Compute the correlation matrix\n",
    "corr = df.corr()"
   ]
  },
  {
   "cell_type": "code",
   "execution_count": 5,
   "metadata": {
    "collapsed": false
   },
   "outputs": [
    {
     "data": {
      "text/html": [
       "<div>\n",
       "<table border=\"1\" class=\"dataframe\">\n",
       "  <thead>\n",
       "    <tr style=\"text-align: right;\">\n",
       "      <th></th>\n",
       "      <th>Days</th>\n",
       "      <th>Recovery</th>\n",
       "      <th>Extract weight</th>\n",
       "      <th>Lipid %</th>\n",
       "      <th>Weight (g)</th>\n",
       "      <th>Size (cm)</th>\n",
       "      <th>Liver weight (g)</th>\n",
       "      <th>LSI</th>\n",
       "      <th>CF</th>\n",
       "      <th>BDE 47 (ng/g)</th>\n",
       "      <th>BDE 99 (ng/g)</th>\n",
       "    </tr>\n",
       "  </thead>\n",
       "  <tbody>\n",
       "    <tr>\n",
       "      <th>Days</th>\n",
       "      <td>1.000000</td>\n",
       "      <td>-0.198109</td>\n",
       "      <td>-0.370075</td>\n",
       "      <td>0.015612</td>\n",
       "      <td>-0.303940</td>\n",
       "      <td>-0.236890</td>\n",
       "      <td>-0.290491</td>\n",
       "      <td>-0.177522</td>\n",
       "      <td>-0.175682</td>\n",
       "      <td>0.521630</td>\n",
       "      <td>-0.019999</td>\n",
       "    </tr>\n",
       "    <tr>\n",
       "      <th>Recovery</th>\n",
       "      <td>-0.198109</td>\n",
       "      <td>1.000000</td>\n",
       "      <td>0.401749</td>\n",
       "      <td>0.128955</td>\n",
       "      <td>0.313801</td>\n",
       "      <td>0.341125</td>\n",
       "      <td>0.275292</td>\n",
       "      <td>0.135843</td>\n",
       "      <td>-0.053753</td>\n",
       "      <td>0.124150</td>\n",
       "      <td>0.317431</td>\n",
       "    </tr>\n",
       "    <tr>\n",
       "      <th>Extract weight</th>\n",
       "      <td>-0.370075</td>\n",
       "      <td>0.401749</td>\n",
       "      <td>1.000000</td>\n",
       "      <td>-0.054310</td>\n",
       "      <td>0.606070</td>\n",
       "      <td>0.573310</td>\n",
       "      <td>0.826522</td>\n",
       "      <td>0.714701</td>\n",
       "      <td>0.169690</td>\n",
       "      <td>-0.130743</td>\n",
       "      <td>0.381399</td>\n",
       "    </tr>\n",
       "    <tr>\n",
       "      <th>Lipid %</th>\n",
       "      <td>0.015612</td>\n",
       "      <td>0.128955</td>\n",
       "      <td>-0.054310</td>\n",
       "      <td>1.000000</td>\n",
       "      <td>-0.137595</td>\n",
       "      <td>-0.060706</td>\n",
       "      <td>-0.125224</td>\n",
       "      <td>-0.050427</td>\n",
       "      <td>-0.241113</td>\n",
       "      <td>0.058716</td>\n",
       "      <td>0.401148</td>\n",
       "    </tr>\n",
       "    <tr>\n",
       "      <th>Weight (g)</th>\n",
       "      <td>-0.303940</td>\n",
       "      <td>0.313801</td>\n",
       "      <td>0.606070</td>\n",
       "      <td>-0.137595</td>\n",
       "      <td>1.000000</td>\n",
       "      <td>0.940802</td>\n",
       "      <td>0.787262</td>\n",
       "      <td>0.340410</td>\n",
       "      <td>0.309694</td>\n",
       "      <td>-0.151641</td>\n",
       "      <td>0.183310</td>\n",
       "    </tr>\n",
       "    <tr>\n",
       "      <th>Size (cm)</th>\n",
       "      <td>-0.236890</td>\n",
       "      <td>0.341125</td>\n",
       "      <td>0.573310</td>\n",
       "      <td>-0.060706</td>\n",
       "      <td>0.940802</td>\n",
       "      <td>1.000000</td>\n",
       "      <td>0.735937</td>\n",
       "      <td>0.315883</td>\n",
       "      <td>-0.022237</td>\n",
       "      <td>-0.111027</td>\n",
       "      <td>0.282175</td>\n",
       "    </tr>\n",
       "    <tr>\n",
       "      <th>Liver weight (g)</th>\n",
       "      <td>-0.290491</td>\n",
       "      <td>0.275292</td>\n",
       "      <td>0.826522</td>\n",
       "      <td>-0.125224</td>\n",
       "      <td>0.787262</td>\n",
       "      <td>0.735937</td>\n",
       "      <td>1.000000</td>\n",
       "      <td>0.837246</td>\n",
       "      <td>0.253735</td>\n",
       "      <td>-0.013299</td>\n",
       "      <td>0.384234</td>\n",
       "    </tr>\n",
       "    <tr>\n",
       "      <th>LSI</th>\n",
       "      <td>-0.177522</td>\n",
       "      <td>0.135843</td>\n",
       "      <td>0.714701</td>\n",
       "      <td>-0.050427</td>\n",
       "      <td>0.340410</td>\n",
       "      <td>0.315883</td>\n",
       "      <td>0.837246</td>\n",
       "      <td>1.000000</td>\n",
       "      <td>0.133286</td>\n",
       "      <td>0.135600</td>\n",
       "      <td>0.448816</td>\n",
       "    </tr>\n",
       "    <tr>\n",
       "      <th>CF</th>\n",
       "      <td>-0.175682</td>\n",
       "      <td>-0.053753</td>\n",
       "      <td>0.169690</td>\n",
       "      <td>-0.241113</td>\n",
       "      <td>0.309694</td>\n",
       "      <td>-0.022237</td>\n",
       "      <td>0.253735</td>\n",
       "      <td>0.133286</td>\n",
       "      <td>1.000000</td>\n",
       "      <td>-0.094384</td>\n",
       "      <td>-0.213006</td>\n",
       "    </tr>\n",
       "    <tr>\n",
       "      <th>BDE 47 (ng/g)</th>\n",
       "      <td>0.521630</td>\n",
       "      <td>0.124150</td>\n",
       "      <td>-0.130743</td>\n",
       "      <td>0.058716</td>\n",
       "      <td>-0.151641</td>\n",
       "      <td>-0.111027</td>\n",
       "      <td>-0.013299</td>\n",
       "      <td>0.135600</td>\n",
       "      <td>-0.094384</td>\n",
       "      <td>1.000000</td>\n",
       "      <td>0.210639</td>\n",
       "    </tr>\n",
       "    <tr>\n",
       "      <th>BDE 99 (ng/g)</th>\n",
       "      <td>-0.019999</td>\n",
       "      <td>0.317431</td>\n",
       "      <td>0.381399</td>\n",
       "      <td>0.401148</td>\n",
       "      <td>0.183310</td>\n",
       "      <td>0.282175</td>\n",
       "      <td>0.384234</td>\n",
       "      <td>0.448816</td>\n",
       "      <td>-0.213006</td>\n",
       "      <td>0.210639</td>\n",
       "      <td>1.000000</td>\n",
       "    </tr>\n",
       "  </tbody>\n",
       "</table>\n",
       "</div>"
      ],
      "text/plain": [
       "                      Days  Recovery  Extract weight   Lipid %  Weight (g)  \\\n",
       "Days              1.000000 -0.198109       -0.370075  0.015612   -0.303940   \n",
       "Recovery         -0.198109  1.000000        0.401749  0.128955    0.313801   \n",
       "Extract weight   -0.370075  0.401749        1.000000 -0.054310    0.606070   \n",
       "Lipid %           0.015612  0.128955       -0.054310  1.000000   -0.137595   \n",
       "Weight (g)       -0.303940  0.313801        0.606070 -0.137595    1.000000   \n",
       "Size (cm)        -0.236890  0.341125        0.573310 -0.060706    0.940802   \n",
       "Liver weight (g) -0.290491  0.275292        0.826522 -0.125224    0.787262   \n",
       "LSI              -0.177522  0.135843        0.714701 -0.050427    0.340410   \n",
       "CF               -0.175682 -0.053753        0.169690 -0.241113    0.309694   \n",
       "BDE 47 (ng/g)     0.521630  0.124150       -0.130743  0.058716   -0.151641   \n",
       "BDE 99 (ng/g)    -0.019999  0.317431        0.381399  0.401148    0.183310   \n",
       "\n",
       "                  Size (cm)  Liver weight (g)       LSI        CF  \\\n",
       "Days              -0.236890         -0.290491 -0.177522 -0.175682   \n",
       "Recovery           0.341125          0.275292  0.135843 -0.053753   \n",
       "Extract weight     0.573310          0.826522  0.714701  0.169690   \n",
       "Lipid %           -0.060706         -0.125224 -0.050427 -0.241113   \n",
       "Weight (g)         0.940802          0.787262  0.340410  0.309694   \n",
       "Size (cm)          1.000000          0.735937  0.315883 -0.022237   \n",
       "Liver weight (g)   0.735937          1.000000  0.837246  0.253735   \n",
       "LSI                0.315883          0.837246  1.000000  0.133286   \n",
       "CF                -0.022237          0.253735  0.133286  1.000000   \n",
       "BDE 47 (ng/g)     -0.111027         -0.013299  0.135600 -0.094384   \n",
       "BDE 99 (ng/g)      0.282175          0.384234  0.448816 -0.213006   \n",
       "\n",
       "                  BDE 47 (ng/g)  BDE 99 (ng/g)  \n",
       "Days                   0.521630      -0.019999  \n",
       "Recovery               0.124150       0.317431  \n",
       "Extract weight        -0.130743       0.381399  \n",
       "Lipid %                0.058716       0.401148  \n",
       "Weight (g)            -0.151641       0.183310  \n",
       "Size (cm)             -0.111027       0.282175  \n",
       "Liver weight (g)      -0.013299       0.384234  \n",
       "LSI                    0.135600       0.448816  \n",
       "CF                    -0.094384      -0.213006  \n",
       "BDE 47 (ng/g)          1.000000       0.210639  \n",
       "BDE 99 (ng/g)          0.210639       1.000000  "
      ]
     },
     "execution_count": 5,
     "metadata": {},
     "output_type": "execute_result"
    }
   ],
   "source": [
    "corr"
   ]
  },
  {
   "cell_type": "code",
   "execution_count": 6,
   "metadata": {
    "collapsed": true
   },
   "outputs": [],
   "source": [
    "# Generate a mask for the upper triangle\n",
    "mask = np.zeros_like(corr, dtype=np.bool)\n",
    "mask[np.triu_indices_from(mask)] = True\n"
   ]
  },
  {
   "cell_type": "code",
   "execution_count": 7,
   "metadata": {
    "collapsed": false
   },
   "outputs": [],
   "source": [
    "# Set up the matplotlib figure\n",
    "f, ax = plt.subplots(figsize=(11, 9))\n"
   ]
  },
  {
   "cell_type": "code",
   "execution_count": 8,
   "metadata": {
    "collapsed": false
   },
   "outputs": [],
   "source": [
    "# Generate a custom diverging colormap\n",
    "cmap = sns.diverging_palette(220, 10, as_cmap=True)\n"
   ]
  },
  {
   "cell_type": "code",
   "execution_count": 9,
   "metadata": {
    "collapsed": false
   },
   "outputs": [
    {
     "data": {
      "text/plain": [
       "<matplotlib.axes._subplots.AxesSubplot at 0x19c7cdee10>"
      ]
     },
     "execution_count": 9,
     "metadata": {},
     "output_type": "execute_result"
    }
   ],
   "source": [
    "# Draw the heatmap with the mask and correct aspect ratio\n",
    "sns.heatmap(corr, mask=mask, cmap=cmap, vmax=.3,\n",
    "            square=True, xticklabels=5, yticklabels=5,\n",
    "            linewidths=.5, cbar_kws={\"shrink\": .5}, ax=ax)"
   ]
  },
  {
   "cell_type": "code",
   "execution_count": 10,
   "metadata": {
    "collapsed": true
   },
   "outputs": [],
   "source": [
    "plt.show()"
   ]
  },
  {
   "cell_type": "code",
   "execution_count": null,
   "metadata": {
    "collapsed": true
   },
   "outputs": [],
   "source": []
  }
 ],
 "metadata": {
  "kernelspec": {
   "display_name": "Python 3",
   "language": "python",
   "name": "python3"
  },
  "language_info": {
   "codemirror_mode": {
    "name": "ipython",
    "version": 3
   },
   "file_extension": ".py",
   "mimetype": "text/x-python",
   "name": "python",
   "nbconvert_exporter": "python",
   "pygments_lexer": "ipython3",
   "version": "3.5.0"
  }
 },
 "nbformat": 4,
 "nbformat_minor": 0
}
