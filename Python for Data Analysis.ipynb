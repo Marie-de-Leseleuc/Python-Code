{
 "cells": [
  {
   "cell_type": "markdown",
   "metadata": {},
   "source": [
    "# Pandas Tutorial"
   ]
  },
  {
   "cell_type": "markdown",
   "metadata": {},
   "source": [
    "### Import Libraries "
   ]
  },
  {
   "cell_type": "code",
   "execution_count": 3,
   "metadata": {
    "collapsed": true
   },
   "outputs": [],
   "source": [
    "from pandas import DataFrame, Series\n",
    "import pandas as pd\n",
    "import json"
   ]
  },
  {
   "cell_type": "markdown",
   "metadata": {},
   "source": [
    "### Open json document"
   ]
  },
  {
   "cell_type": "code",
   "execution_count": 25,
   "metadata": {
    "collapsed": false
   },
   "outputs": [],
   "source": [
    "path = \"C:\\\\Users\\\\mdeleseleuc\\\\Documents\\\\usagov_bitly_data2012-03-16-1331923249.txt\"\n",
    "records = [json.loads(line.decode('utf-8')) for line in open(path, 'rb')]"
   ]
  },
  {
   "cell_type": "markdown",
   "metadata": {},
   "source": [
    "### Create a data frame"
   ]
  },
  {
   "cell_type": "code",
   "execution_count": 26,
   "metadata": {
    "collapsed": false
   },
   "outputs": [
    {
     "name": "stdout",
     "output_type": "stream",
     "text": [
      "<class 'pandas.core.frame.DataFrame'>\n",
      "RangeIndex: 3560 entries, 0 to 3559\n",
      "Data columns (total 18 columns):\n",
      "_heartbeat_    120 non-null float64\n",
      "a              3440 non-null object\n",
      "al             3094 non-null object\n",
      "c              2919 non-null object\n",
      "cy             2919 non-null object\n",
      "g              3440 non-null object\n",
      "gr             2919 non-null object\n",
      "h              3440 non-null object\n",
      "hc             3440 non-null float64\n",
      "hh             3440 non-null object\n",
      "kw             93 non-null object\n",
      "l              3440 non-null object\n",
      "ll             2919 non-null object\n",
      "nk             3440 non-null float64\n",
      "r              3440 non-null object\n",
      "t              3440 non-null float64\n",
      "tz             3440 non-null object\n",
      "u              3440 non-null object\n",
      "dtypes: float64(4), object(14)\n",
      "memory usage: 500.7+ KB\n"
     ]
    }
   ],
   "source": [
    "frame = DataFrame(records)\n",
    "frame.info()"
   ]
  },
  {
   "cell_type": "markdown",
   "metadata": {},
   "source": [
    "### Counting Time Zone"
   ]
  },
  {
   "cell_type": "code",
   "execution_count": 27,
   "metadata": {
    "collapsed": true
   },
   "outputs": [],
   "source": [
    "tz_counts = frame['tz'].value_counts()"
   ]
  },
  {
   "cell_type": "markdown",
   "metadata": {},
   "source": [
    "#### Count Top 10 Time Zone "
   ]
  },
  {
   "cell_type": "code",
   "execution_count": 28,
   "metadata": {
    "collapsed": false
   },
   "outputs": [
    {
     "data": {
      "text/plain": [
       "America/New_York       1251\n",
       "                        521\n",
       "America/Chicago         400\n",
       "America/Los_Angeles     382\n",
       "America/Denver          191\n",
       "Europe/London            74\n",
       "Asia/Tokyo               37\n",
       "Pacific/Honolulu         36\n",
       "Europe/Madrid            35\n",
       "America/Sao_Paulo        33\n",
       "Name: tz, dtype: int64"
      ]
     },
     "execution_count": 28,
     "metadata": {},
     "output_type": "execute_result"
    }
   ],
   "source": [
    "tz_counts[:10]"
   ]
  },
  {
   "cell_type": "markdown",
   "metadata": {},
   "source": [
    "## Select Multiple Columns "
   ]
  },
  {
   "cell_type": "code",
   "execution_count": 34,
   "metadata": {
    "collapsed": false
   },
   "outputs": [
    {
     "data": {
      "text/html": [
       "<div>\n",
       "<table border=\"1\" class=\"dataframe\">\n",
       "  <thead>\n",
       "    <tr style=\"text-align: right;\">\n",
       "      <th></th>\n",
       "      <th>A</th>\n",
       "      <th>B</th>\n",
       "      <th>C</th>\n",
       "      <th>E</th>\n",
       "      <th>G</th>\n",
       "      <th>H</th>\n",
       "      <th>I</th>\n",
       "    </tr>\n",
       "  </thead>\n",
       "  <tbody>\n",
       "    <tr>\n",
       "      <th>0</th>\n",
       "      <td>-0.906328</td>\n",
       "      <td>1.140359</td>\n",
       "      <td>0.512742</td>\n",
       "      <td>0.241720</td>\n",
       "      <td>1.163023</td>\n",
       "      <td>0.159320</td>\n",
       "      <td>0.267051</td>\n",
       "    </tr>\n",
       "    <tr>\n",
       "      <th>1</th>\n",
       "      <td>-0.531272</td>\n",
       "      <td>0.455603</td>\n",
       "      <td>0.645916</td>\n",
       "      <td>0.904268</td>\n",
       "      <td>-0.225674</td>\n",
       "      <td>0.086153</td>\n",
       "      <td>0.623138</td>\n",
       "    </tr>\n",
       "    <tr>\n",
       "      <th>2</th>\n",
       "      <td>0.281375</td>\n",
       "      <td>0.062687</td>\n",
       "      <td>-0.707604</td>\n",
       "      <td>0.153140</td>\n",
       "      <td>-2.043497</td>\n",
       "      <td>1.503219</td>\n",
       "      <td>-0.207315</td>\n",
       "    </tr>\n",
       "    <tr>\n",
       "      <th>3</th>\n",
       "      <td>0.011807</td>\n",
       "      <td>2.185876</td>\n",
       "      <td>1.782601</td>\n",
       "      <td>1.965264</td>\n",
       "      <td>-1.386367</td>\n",
       "      <td>0.789775</td>\n",
       "      <td>1.500699</td>\n",
       "    </tr>\n",
       "    <tr>\n",
       "      <th>4</th>\n",
       "      <td>0.591911</td>\n",
       "      <td>1.102655</td>\n",
       "      <td>1.687513</td>\n",
       "      <td>2.422992</td>\n",
       "      <td>0.825330</td>\n",
       "      <td>-1.983531</td>\n",
       "      <td>0.473926</td>\n",
       "    </tr>\n",
       "    <tr>\n",
       "      <th>5</th>\n",
       "      <td>-0.995780</td>\n",
       "      <td>-0.042564</td>\n",
       "      <td>0.128095</td>\n",
       "      <td>-0.767180</td>\n",
       "      <td>0.100798</td>\n",
       "      <td>-1.165636</td>\n",
       "      <td>0.400331</td>\n",
       "    </tr>\n",
       "    <tr>\n",
       "      <th>6</th>\n",
       "      <td>1.207083</td>\n",
       "      <td>-0.361263</td>\n",
       "      <td>-1.095566</td>\n",
       "      <td>1.390458</td>\n",
       "      <td>1.829709</td>\n",
       "      <td>0.229821</td>\n",
       "      <td>1.965907</td>\n",
       "    </tr>\n",
       "    <tr>\n",
       "      <th>7</th>\n",
       "      <td>-1.330909</td>\n",
       "      <td>1.014279</td>\n",
       "      <td>-0.288265</td>\n",
       "      <td>0.870741</td>\n",
       "      <td>-1.461545</td>\n",
       "      <td>0.322892</td>\n",
       "      <td>0.402167</td>\n",
       "    </tr>\n",
       "    <tr>\n",
       "      <th>8</th>\n",
       "      <td>-1.529603</td>\n",
       "      <td>0.052821</td>\n",
       "      <td>2.925683</td>\n",
       "      <td>-0.481913</td>\n",
       "      <td>0.308598</td>\n",
       "      <td>-0.004559</td>\n",
       "      <td>-0.971918</td>\n",
       "    </tr>\n",
       "    <tr>\n",
       "      <th>9</th>\n",
       "      <td>-1.012437</td>\n",
       "      <td>-0.788339</td>\n",
       "      <td>0.772239</td>\n",
       "      <td>-0.781385</td>\n",
       "      <td>-0.931739</td>\n",
       "      <td>-0.875302</td>\n",
       "      <td>0.080511</td>\n",
       "    </tr>\n",
       "  </tbody>\n",
       "</table>\n",
       "</div>"
      ],
      "text/plain": [
       "          A         B         C         E         G         H         I\n",
       "0 -0.906328  1.140359  0.512742  0.241720  1.163023  0.159320  0.267051\n",
       "1 -0.531272  0.455603  0.645916  0.904268 -0.225674  0.086153  0.623138\n",
       "2  0.281375  0.062687 -0.707604  0.153140 -2.043497  1.503219 -0.207315\n",
       "3  0.011807  2.185876  1.782601  1.965264 -1.386367  0.789775  1.500699\n",
       "4  0.591911  1.102655  1.687513  2.422992  0.825330 -1.983531  0.473926\n",
       "5 -0.995780 -0.042564  0.128095 -0.767180  0.100798 -1.165636  0.400331\n",
       "6  1.207083 -0.361263 -1.095566  1.390458  1.829709  0.229821  1.965907\n",
       "7 -1.330909  1.014279 -0.288265  0.870741 -1.461545  0.322892  0.402167\n",
       "8 -1.529603  0.052821  2.925683 -0.481913  0.308598 -0.004559 -0.971918\n",
       "9 -1.012437 -0.788339  0.772239 -0.781385 -0.931739 -0.875302  0.080511"
      ]
     },
     "execution_count": 34,
     "metadata": {},
     "output_type": "execute_result"
    }
   ],
   "source": [
    "from numpy.random import randn\n",
    "\n",
    "df = DataFrame(randn(10, 10), index=range(0,10), columns=['A', 'B', 'C', 'D','E','F','G','H','I','J'])\n",
    "\n",
    "cols = list(df.loc[:,'A':'C']) + ['E'] + list(df.loc[:,'G':'I'])\n",
    "df[cols]"
   ]
  },
  {
   "cell_type": "markdown",
   "metadata": {},
   "source": [
    "#### Second method"
   ]
  },
  {
   "cell_type": "code",
   "execution_count": 35,
   "metadata": {
    "collapsed": false
   },
   "outputs": [
    {
     "data": {
      "text/html": [
       "<div>\n",
       "<table border=\"1\" class=\"dataframe\">\n",
       "  <thead>\n",
       "    <tr style=\"text-align: right;\">\n",
       "      <th></th>\n",
       "      <th>A</th>\n",
       "      <th>B</th>\n",
       "      <th>C</th>\n",
       "      <th>E</th>\n",
       "      <th>G</th>\n",
       "      <th>H</th>\n",
       "      <th>I</th>\n",
       "    </tr>\n",
       "  </thead>\n",
       "  <tbody>\n",
       "    <tr>\n",
       "      <th>0</th>\n",
       "      <td>-0.906328</td>\n",
       "      <td>1.140359</td>\n",
       "      <td>0.512742</td>\n",
       "      <td>0.241720</td>\n",
       "      <td>1.163023</td>\n",
       "      <td>0.159320</td>\n",
       "      <td>0.267051</td>\n",
       "    </tr>\n",
       "    <tr>\n",
       "      <th>1</th>\n",
       "      <td>-0.531272</td>\n",
       "      <td>0.455603</td>\n",
       "      <td>0.645916</td>\n",
       "      <td>0.904268</td>\n",
       "      <td>-0.225674</td>\n",
       "      <td>0.086153</td>\n",
       "      <td>0.623138</td>\n",
       "    </tr>\n",
       "    <tr>\n",
       "      <th>2</th>\n",
       "      <td>0.281375</td>\n",
       "      <td>0.062687</td>\n",
       "      <td>-0.707604</td>\n",
       "      <td>0.153140</td>\n",
       "      <td>-2.043497</td>\n",
       "      <td>1.503219</td>\n",
       "      <td>-0.207315</td>\n",
       "    </tr>\n",
       "    <tr>\n",
       "      <th>3</th>\n",
       "      <td>0.011807</td>\n",
       "      <td>2.185876</td>\n",
       "      <td>1.782601</td>\n",
       "      <td>1.965264</td>\n",
       "      <td>-1.386367</td>\n",
       "      <td>0.789775</td>\n",
       "      <td>1.500699</td>\n",
       "    </tr>\n",
       "    <tr>\n",
       "      <th>4</th>\n",
       "      <td>0.591911</td>\n",
       "      <td>1.102655</td>\n",
       "      <td>1.687513</td>\n",
       "      <td>2.422992</td>\n",
       "      <td>0.825330</td>\n",
       "      <td>-1.983531</td>\n",
       "      <td>0.473926</td>\n",
       "    </tr>\n",
       "    <tr>\n",
       "      <th>5</th>\n",
       "      <td>-0.995780</td>\n",
       "      <td>-0.042564</td>\n",
       "      <td>0.128095</td>\n",
       "      <td>-0.767180</td>\n",
       "      <td>0.100798</td>\n",
       "      <td>-1.165636</td>\n",
       "      <td>0.400331</td>\n",
       "    </tr>\n",
       "    <tr>\n",
       "      <th>6</th>\n",
       "      <td>1.207083</td>\n",
       "      <td>-0.361263</td>\n",
       "      <td>-1.095566</td>\n",
       "      <td>1.390458</td>\n",
       "      <td>1.829709</td>\n",
       "      <td>0.229821</td>\n",
       "      <td>1.965907</td>\n",
       "    </tr>\n",
       "    <tr>\n",
       "      <th>7</th>\n",
       "      <td>-1.330909</td>\n",
       "      <td>1.014279</td>\n",
       "      <td>-0.288265</td>\n",
       "      <td>0.870741</td>\n",
       "      <td>-1.461545</td>\n",
       "      <td>0.322892</td>\n",
       "      <td>0.402167</td>\n",
       "    </tr>\n",
       "    <tr>\n",
       "      <th>8</th>\n",
       "      <td>-1.529603</td>\n",
       "      <td>0.052821</td>\n",
       "      <td>2.925683</td>\n",
       "      <td>-0.481913</td>\n",
       "      <td>0.308598</td>\n",
       "      <td>-0.004559</td>\n",
       "      <td>-0.971918</td>\n",
       "    </tr>\n",
       "    <tr>\n",
       "      <th>9</th>\n",
       "      <td>-1.012437</td>\n",
       "      <td>-0.788339</td>\n",
       "      <td>0.772239</td>\n",
       "      <td>-0.781385</td>\n",
       "      <td>-0.931739</td>\n",
       "      <td>-0.875302</td>\n",
       "      <td>0.080511</td>\n",
       "    </tr>\n",
       "  </tbody>\n",
       "</table>\n",
       "</div>"
      ],
      "text/plain": [
       "          A         B         C         E         G         H         I\n",
       "0 -0.906328  1.140359  0.512742  0.241720  1.163023  0.159320  0.267051\n",
       "1 -0.531272  0.455603  0.645916  0.904268 -0.225674  0.086153  0.623138\n",
       "2  0.281375  0.062687 -0.707604  0.153140 -2.043497  1.503219 -0.207315\n",
       "3  0.011807  2.185876  1.782601  1.965264 -1.386367  0.789775  1.500699\n",
       "4  0.591911  1.102655  1.687513  2.422992  0.825330 -1.983531  0.473926\n",
       "5 -0.995780 -0.042564  0.128095 -0.767180  0.100798 -1.165636  0.400331\n",
       "6  1.207083 -0.361263 -1.095566  1.390458  1.829709  0.229821  1.965907\n",
       "7 -1.330909  1.014279 -0.288265  0.870741 -1.461545  0.322892  0.402167\n",
       "8 -1.529603  0.052821  2.925683 -0.481913  0.308598 -0.004559 -0.971918\n",
       "9 -1.012437 -0.788339  0.772239 -0.781385 -0.931739 -0.875302  0.080511"
      ]
     },
     "execution_count": 35,
     "metadata": {},
     "output_type": "execute_result"
    }
   ],
   "source": [
    "df.filter(regex='[A-CEG-I]')"
   ]
  },
  {
   "cell_type": "code",
   "execution_count": null,
   "metadata": {
    "collapsed": true
   },
   "outputs": [],
   "source": []
  }
 ],
 "metadata": {
  "kernelspec": {
   "display_name": "Python [Root]",
   "language": "python",
   "name": "Python [Root]"
  },
  "language_info": {
   "codemirror_mode": {
    "name": "ipython",
    "version": 3
   },
   "file_extension": ".py",
   "mimetype": "text/x-python",
   "name": "python",
   "nbconvert_exporter": "python",
   "pygments_lexer": "ipython3",
   "version": "3.5.2"
  }
 },
 "nbformat": 4,
 "nbformat_minor": 0
}
