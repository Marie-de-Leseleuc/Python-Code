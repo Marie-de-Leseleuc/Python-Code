{
 "cells": [
  {
   "cell_type": "markdown",
   "metadata": {},
   "source": [
    "# Pandas Tutorial"
   ]
  },
  {
   "cell_type": "markdown",
   "metadata": {},
   "source": [
    "### Import Libraries "
   ]
  },
  {
   "cell_type": "code",
   "execution_count": 1,
   "metadata": {
    "collapsed": true
   },
   "outputs": [],
   "source": [
    "from pandas import DataFrame, Series\n",
    "import pandas as pd\n",
    "import json"
   ]
  },
  {
   "cell_type": "markdown",
   "metadata": {},
   "source": [
    "### Open json document"
   ]
  },
  {
   "cell_type": "code",
   "execution_count": 2,
   "metadata": {
    "collapsed": false
   },
   "outputs": [],
   "source": [
    "path = \"C:\\\\Users\\\\mdeleseleuc\\\\Documents\\\\usagov_bitly_data2012-03-16-1331923249.txt\"\n",
    "records = [json.loads(line.decode('utf-8')) for line in open(path, 'rb')]"
   ]
  },
  {
   "cell_type": "markdown",
   "metadata": {},
   "source": [
    "### Create a data frame"
   ]
  },
  {
   "cell_type": "code",
   "execution_count": 10,
   "metadata": {
    "collapsed": false
   },
   "outputs": [
    {
     "name": "stdout",
     "output_type": "stream",
     "text": [
      "<class 'pandas.core.frame.DataFrame'>\n",
      "RangeIndex: 3560 entries, 0 to 3559\n",
      "Data columns (total 18 columns):\n",
      "_heartbeat_    120 non-null float64\n",
      "a              3440 non-null object\n",
      "al             3094 non-null object\n",
      "c              2919 non-null object\n",
      "cy             2919 non-null object\n",
      "g              3440 non-null object\n",
      "gr             2919 non-null object\n",
      "h              3440 non-null object\n",
      "hc             3440 non-null float64\n",
      "hh             3440 non-null object\n",
      "kw             93 non-null object\n",
      "l              3440 non-null object\n",
      "ll             2919 non-null object\n",
      "nk             3440 non-null float64\n",
      "r              3440 non-null object\n",
      "t              3440 non-null float64\n",
      "tz             3440 non-null object\n",
      "u              3440 non-null object\n",
      "dtypes: float64(4), object(14)\n",
      "memory usage: 500.7+ KB\n"
     ]
    },
    {
     "data": {
      "text/plain": [
       "10      America/Los_Angeles\n",
       "11         America/New_York\n",
       "12         America/New_York\n",
       "13                      NaN\n",
       "14         America/New_York\n",
       "15           Asia/Hong_Kong\n",
       "16           Asia/Hong_Kong\n",
       "17         America/New_York\n",
       "18           America/Denver\n",
       "19              Europe/Rome\n",
       "20             Africa/Ceuta\n",
       "21         America/New_York\n",
       "22         America/New_York\n",
       "23         America/New_York\n",
       "24            Europe/Madrid\n",
       "25        Asia/Kuala_Lumpur\n",
       "26             Asia/Nicosia\n",
       "27        America/Sao_Paulo\n",
       "28                         \n",
       "29                         \n",
       "30            Europe/London\n",
       "31         America/New_York\n",
       "32         Pacific/Honolulu\n",
       "33          America/Chicago\n",
       "34                         \n",
       "35                         \n",
       "36         Pacific/Honolulu\n",
       "37                         \n",
       "38         America/New_York\n",
       "39         America/New_York\n",
       "               ...         \n",
       "3530    America/Los_Angeles\n",
       "3531                       \n",
       "3532       America/New_York\n",
       "3533       America/New_York\n",
       "3534        America/Chicago\n",
       "3535        America/Chicago\n",
       "3536                       \n",
       "3537    America/Tegucigalpa\n",
       "3538    America/Los_Angeles\n",
       "3539    America/Los_Angeles\n",
       "3540         America/Denver\n",
       "3541    America/Los_Angeles\n",
       "3542    America/Los_Angeles\n",
       "3543                    NaN\n",
       "3544        America/Chicago\n",
       "3545        America/Chicago\n",
       "3546    America/Los_Angeles\n",
       "3547       America/New_York\n",
       "3548        America/Chicago\n",
       "3549       Europe/Stockholm\n",
       "3550       America/New_York\n",
       "3551                       \n",
       "3552        America/Chicago\n",
       "3553       America/New_York\n",
       "3554       America/New_York\n",
       "3555       America/New_York\n",
       "3556        America/Chicago\n",
       "3557         America/Denver\n",
       "3558    America/Los_Angeles\n",
       "3559       America/New_York\n",
       "Name: tz, dtype: object"
      ]
     },
     "execution_count": 10,
     "metadata": {},
     "output_type": "execute_result"
    }
   ],
   "source": [
    "frame = DataFrame(records)\n",
    "frame.info()\n",
    "frame['tz'][:10] #from first row to 10th row"
   ]
  },
  {
   "cell_type": "markdown",
   "metadata": {},
   "source": [
    "### Counting Time Zone"
   ]
  },
  {
   "cell_type": "code",
   "execution_count": 4,
   "metadata": {
    "collapsed": true
   },
   "outputs": [],
   "source": [
    "tz_counts = frame['tz'].value_counts()"
   ]
  },
  {
   "cell_type": "markdown",
   "metadata": {},
   "source": [
    "#### Count Top 10 Time Zone "
   ]
  },
  {
   "cell_type": "code",
   "execution_count": 15,
   "metadata": {
    "collapsed": false
   },
   "outputs": [
    {
     "data": {
      "text/plain": [
       "America/New_York       1251\n",
       "                        521\n",
       "America/Chicago         400\n",
       "America/Los_Angeles     382\n",
       "America/Denver          191\n",
       "Europe/London            74\n",
       "Asia/Tokyo               37\n",
       "Pacific/Honolulu         36\n",
       "Europe/Madrid            35\n",
       "America/Sao_Paulo        33\n",
       "Name: tz, dtype: int64"
      ]
     },
     "execution_count": 15,
     "metadata": {},
     "output_type": "execute_result"
    }
   ],
   "source": [
    "tz_counts[:10] # from first row to 10th row"
   ]
  },
  {
   "cell_type": "markdown",
   "metadata": {},
   "source": [
    "## Select Multiple Columns "
   ]
  },
  {
   "cell_type": "code",
   "execution_count": 81,
   "metadata": {
    "collapsed": false
   },
   "outputs": [
    {
     "data": {
      "text/html": [
       "<div>\n",
       "<table border=\"1\" class=\"dataframe\">\n",
       "  <thead>\n",
       "    <tr style=\"text-align: right;\">\n",
       "      <th></th>\n",
       "      <th>A</th>\n",
       "      <th>B</th>\n",
       "      <th>C</th>\n",
       "      <th>E</th>\n",
       "      <th>G</th>\n",
       "      <th>H</th>\n",
       "      <th>I</th>\n",
       "    </tr>\n",
       "  </thead>\n",
       "  <tbody>\n",
       "    <tr>\n",
       "      <th>0</th>\n",
       "      <td>-0.777614</td>\n",
       "      <td>0.139033</td>\n",
       "      <td>-1.760012</td>\n",
       "      <td>0.572500</td>\n",
       "      <td>-0.341855</td>\n",
       "      <td>-0.106608</td>\n",
       "      <td>0.286424</td>\n",
       "    </tr>\n",
       "    <tr>\n",
       "      <th>1</th>\n",
       "      <td>1.293244</td>\n",
       "      <td>0.897309</td>\n",
       "      <td>-0.103579</td>\n",
       "      <td>1.634861</td>\n",
       "      <td>-1.772218</td>\n",
       "      <td>-0.883077</td>\n",
       "      <td>0.170219</td>\n",
       "    </tr>\n",
       "    <tr>\n",
       "      <th>2</th>\n",
       "      <td>-0.860854</td>\n",
       "      <td>-1.045912</td>\n",
       "      <td>0.016469</td>\n",
       "      <td>-0.650352</td>\n",
       "      <td>-0.419309</td>\n",
       "      <td>-0.135677</td>\n",
       "      <td>0.469322</td>\n",
       "    </tr>\n",
       "    <tr>\n",
       "      <th>3</th>\n",
       "      <td>-0.602454</td>\n",
       "      <td>0.048851</td>\n",
       "      <td>-0.470056</td>\n",
       "      <td>1.137770</td>\n",
       "      <td>0.482254</td>\n",
       "      <td>-0.218083</td>\n",
       "      <td>-1.347134</td>\n",
       "    </tr>\n",
       "    <tr>\n",
       "      <th>4</th>\n",
       "      <td>-2.245800</td>\n",
       "      <td>-0.651136</td>\n",
       "      <td>-2.433175</td>\n",
       "      <td>1.101322</td>\n",
       "      <td>0.372232</td>\n",
       "      <td>-0.393002</td>\n",
       "      <td>-0.821974</td>\n",
       "    </tr>\n",
       "    <tr>\n",
       "      <th>5</th>\n",
       "      <td>-0.093971</td>\n",
       "      <td>-0.121109</td>\n",
       "      <td>0.747415</td>\n",
       "      <td>0.248017</td>\n",
       "      <td>-0.465393</td>\n",
       "      <td>1.552906</td>\n",
       "      <td>0.542958</td>\n",
       "    </tr>\n",
       "    <tr>\n",
       "      <th>6</th>\n",
       "      <td>-0.124333</td>\n",
       "      <td>-0.218722</td>\n",
       "      <td>-0.958627</td>\n",
       "      <td>-0.296534</td>\n",
       "      <td>-0.558463</td>\n",
       "      <td>-1.916055</td>\n",
       "      <td>1.379466</td>\n",
       "    </tr>\n",
       "    <tr>\n",
       "      <th>7</th>\n",
       "      <td>-0.716517</td>\n",
       "      <td>-0.650701</td>\n",
       "      <td>-1.271580</td>\n",
       "      <td>-1.027166</td>\n",
       "      <td>-1.826040</td>\n",
       "      <td>-0.907562</td>\n",
       "      <td>2.521552</td>\n",
       "    </tr>\n",
       "    <tr>\n",
       "      <th>8</th>\n",
       "      <td>1.400185</td>\n",
       "      <td>-1.100460</td>\n",
       "      <td>0.909589</td>\n",
       "      <td>0.174735</td>\n",
       "      <td>0.667386</td>\n",
       "      <td>-0.454072</td>\n",
       "      <td>0.776666</td>\n",
       "    </tr>\n",
       "    <tr>\n",
       "      <th>9</th>\n",
       "      <td>-0.279265</td>\n",
       "      <td>0.108401</td>\n",
       "      <td>-1.596890</td>\n",
       "      <td>0.835067</td>\n",
       "      <td>1.231576</td>\n",
       "      <td>-0.020013</td>\n",
       "      <td>0.138867</td>\n",
       "    </tr>\n",
       "  </tbody>\n",
       "</table>\n",
       "</div>"
      ],
      "text/plain": [
       "          A         B         C         E         G         H         I\n",
       "0 -0.777614  0.139033 -1.760012  0.572500 -0.341855 -0.106608  0.286424\n",
       "1  1.293244  0.897309 -0.103579  1.634861 -1.772218 -0.883077  0.170219\n",
       "2 -0.860854 -1.045912  0.016469 -0.650352 -0.419309 -0.135677  0.469322\n",
       "3 -0.602454  0.048851 -0.470056  1.137770  0.482254 -0.218083 -1.347134\n",
       "4 -2.245800 -0.651136 -2.433175  1.101322  0.372232 -0.393002 -0.821974\n",
       "5 -0.093971 -0.121109  0.747415  0.248017 -0.465393  1.552906  0.542958\n",
       "6 -0.124333 -0.218722 -0.958627 -0.296534 -0.558463 -1.916055  1.379466\n",
       "7 -0.716517 -0.650701 -1.271580 -1.027166 -1.826040 -0.907562  2.521552\n",
       "8  1.400185 -1.100460  0.909589  0.174735  0.667386 -0.454072  0.776666\n",
       "9 -0.279265  0.108401 -1.596890  0.835067  1.231576 -0.020013  0.138867"
      ]
     },
     "execution_count": 81,
     "metadata": {},
     "output_type": "execute_result"
    }
   ],
   "source": [
    "from numpy.random import randn\n",
    "\n",
    "df = DataFrame(randn(10, 10), index=range(0,10), columns=['A', 'B', 'C', 'D','E','F','G','H','I','J'])\n",
    "\n",
    "cols = list(df.loc[:,'A':'C']) + ['E'] + list(df.loc[:,'G':'I']) # df.loc[rows, columns]\n",
    "df[cols]\n"
   ]
  },
  {
   "cell_type": "code",
   "execution_count": 97,
   "metadata": {
    "collapsed": false
   },
   "outputs": [
    {
     "data": {
      "text/html": [
       "<div>\n",
       "<table border=\"1\" class=\"dataframe\">\n",
       "  <thead>\n",
       "    <tr style=\"text-align: right;\">\n",
       "      <th></th>\n",
       "      <th>A</th>\n",
       "      <th>B</th>\n",
       "      <th>E</th>\n",
       "    </tr>\n",
       "  </thead>\n",
       "  <tbody>\n",
       "    <tr>\n",
       "      <th>0</th>\n",
       "      <td>-0.777614</td>\n",
       "      <td>0.139033</td>\n",
       "      <td>0.572500</td>\n",
       "    </tr>\n",
       "    <tr>\n",
       "      <th>1</th>\n",
       "      <td>1.293244</td>\n",
       "      <td>0.897309</td>\n",
       "      <td>1.634861</td>\n",
       "    </tr>\n",
       "    <tr>\n",
       "      <th>2</th>\n",
       "      <td>-0.860854</td>\n",
       "      <td>-1.045912</td>\n",
       "      <td>-0.650352</td>\n",
       "    </tr>\n",
       "    <tr>\n",
       "      <th>3</th>\n",
       "      <td>-0.602454</td>\n",
       "      <td>0.048851</td>\n",
       "      <td>1.137770</td>\n",
       "    </tr>\n",
       "    <tr>\n",
       "      <th>4</th>\n",
       "      <td>-2.245800</td>\n",
       "      <td>-0.651136</td>\n",
       "      <td>1.101322</td>\n",
       "    </tr>\n",
       "    <tr>\n",
       "      <th>5</th>\n",
       "      <td>-0.093971</td>\n",
       "      <td>-0.121109</td>\n",
       "      <td>0.248017</td>\n",
       "    </tr>\n",
       "    <tr>\n",
       "      <th>6</th>\n",
       "      <td>-0.124333</td>\n",
       "      <td>-0.218722</td>\n",
       "      <td>-0.296534</td>\n",
       "    </tr>\n",
       "    <tr>\n",
       "      <th>7</th>\n",
       "      <td>-0.716517</td>\n",
       "      <td>-0.650701</td>\n",
       "      <td>-1.027166</td>\n",
       "    </tr>\n",
       "    <tr>\n",
       "      <th>8</th>\n",
       "      <td>1.400185</td>\n",
       "      <td>-1.100460</td>\n",
       "      <td>0.174735</td>\n",
       "    </tr>\n",
       "    <tr>\n",
       "      <th>9</th>\n",
       "      <td>-0.279265</td>\n",
       "      <td>0.108401</td>\n",
       "      <td>0.835067</td>\n",
       "    </tr>\n",
       "  </tbody>\n",
       "</table>\n",
       "</div>"
      ],
      "text/plain": [
       "          A         B         E\n",
       "0 -0.777614  0.139033  0.572500\n",
       "1  1.293244  0.897309  1.634861\n",
       "2 -0.860854 -1.045912 -0.650352\n",
       "3 -0.602454  0.048851  1.137770\n",
       "4 -2.245800 -0.651136  1.101322\n",
       "5 -0.093971 -0.121109  0.248017\n",
       "6 -0.124333 -0.218722 -0.296534\n",
       "7 -0.716517 -0.650701 -1.027166\n",
       "8  1.400185 -1.100460  0.174735\n",
       "9 -0.279265  0.108401  0.835067"
      ]
     },
     "execution_count": 97,
     "metadata": {},
     "output_type": "execute_result"
    }
   ],
   "source": [
    "cols = list(df.ix[:,:2] + df.ix[:,[4]])  #first two columns + 4th colum\n",
    "df[cols]"
   ]
  },
  {
   "cell_type": "markdown",
   "metadata": {},
   "source": [
    "#### Second method"
   ]
  },
  {
   "cell_type": "code",
   "execution_count": 35,
   "metadata": {
    "collapsed": false
   },
   "outputs": [
    {
     "data": {
      "text/html": [
       "<div>\n",
       "<table border=\"1\" class=\"dataframe\">\n",
       "  <thead>\n",
       "    <tr style=\"text-align: right;\">\n",
       "      <th></th>\n",
       "      <th>A</th>\n",
       "      <th>B</th>\n",
       "      <th>C</th>\n",
       "      <th>E</th>\n",
       "      <th>G</th>\n",
       "      <th>H</th>\n",
       "      <th>I</th>\n",
       "    </tr>\n",
       "  </thead>\n",
       "  <tbody>\n",
       "    <tr>\n",
       "      <th>0</th>\n",
       "      <td>-0.906328</td>\n",
       "      <td>1.140359</td>\n",
       "      <td>0.512742</td>\n",
       "      <td>0.241720</td>\n",
       "      <td>1.163023</td>\n",
       "      <td>0.159320</td>\n",
       "      <td>0.267051</td>\n",
       "    </tr>\n",
       "    <tr>\n",
       "      <th>1</th>\n",
       "      <td>-0.531272</td>\n",
       "      <td>0.455603</td>\n",
       "      <td>0.645916</td>\n",
       "      <td>0.904268</td>\n",
       "      <td>-0.225674</td>\n",
       "      <td>0.086153</td>\n",
       "      <td>0.623138</td>\n",
       "    </tr>\n",
       "    <tr>\n",
       "      <th>2</th>\n",
       "      <td>0.281375</td>\n",
       "      <td>0.062687</td>\n",
       "      <td>-0.707604</td>\n",
       "      <td>0.153140</td>\n",
       "      <td>-2.043497</td>\n",
       "      <td>1.503219</td>\n",
       "      <td>-0.207315</td>\n",
       "    </tr>\n",
       "    <tr>\n",
       "      <th>3</th>\n",
       "      <td>0.011807</td>\n",
       "      <td>2.185876</td>\n",
       "      <td>1.782601</td>\n",
       "      <td>1.965264</td>\n",
       "      <td>-1.386367</td>\n",
       "      <td>0.789775</td>\n",
       "      <td>1.500699</td>\n",
       "    </tr>\n",
       "    <tr>\n",
       "      <th>4</th>\n",
       "      <td>0.591911</td>\n",
       "      <td>1.102655</td>\n",
       "      <td>1.687513</td>\n",
       "      <td>2.422992</td>\n",
       "      <td>0.825330</td>\n",
       "      <td>-1.983531</td>\n",
       "      <td>0.473926</td>\n",
       "    </tr>\n",
       "    <tr>\n",
       "      <th>5</th>\n",
       "      <td>-0.995780</td>\n",
       "      <td>-0.042564</td>\n",
       "      <td>0.128095</td>\n",
       "      <td>-0.767180</td>\n",
       "      <td>0.100798</td>\n",
       "      <td>-1.165636</td>\n",
       "      <td>0.400331</td>\n",
       "    </tr>\n",
       "    <tr>\n",
       "      <th>6</th>\n",
       "      <td>1.207083</td>\n",
       "      <td>-0.361263</td>\n",
       "      <td>-1.095566</td>\n",
       "      <td>1.390458</td>\n",
       "      <td>1.829709</td>\n",
       "      <td>0.229821</td>\n",
       "      <td>1.965907</td>\n",
       "    </tr>\n",
       "    <tr>\n",
       "      <th>7</th>\n",
       "      <td>-1.330909</td>\n",
       "      <td>1.014279</td>\n",
       "      <td>-0.288265</td>\n",
       "      <td>0.870741</td>\n",
       "      <td>-1.461545</td>\n",
       "      <td>0.322892</td>\n",
       "      <td>0.402167</td>\n",
       "    </tr>\n",
       "    <tr>\n",
       "      <th>8</th>\n",
       "      <td>-1.529603</td>\n",
       "      <td>0.052821</td>\n",
       "      <td>2.925683</td>\n",
       "      <td>-0.481913</td>\n",
       "      <td>0.308598</td>\n",
       "      <td>-0.004559</td>\n",
       "      <td>-0.971918</td>\n",
       "    </tr>\n",
       "    <tr>\n",
       "      <th>9</th>\n",
       "      <td>-1.012437</td>\n",
       "      <td>-0.788339</td>\n",
       "      <td>0.772239</td>\n",
       "      <td>-0.781385</td>\n",
       "      <td>-0.931739</td>\n",
       "      <td>-0.875302</td>\n",
       "      <td>0.080511</td>\n",
       "    </tr>\n",
       "  </tbody>\n",
       "</table>\n",
       "</div>"
      ],
      "text/plain": [
       "          A         B         C         E         G         H         I\n",
       "0 -0.906328  1.140359  0.512742  0.241720  1.163023  0.159320  0.267051\n",
       "1 -0.531272  0.455603  0.645916  0.904268 -0.225674  0.086153  0.623138\n",
       "2  0.281375  0.062687 -0.707604  0.153140 -2.043497  1.503219 -0.207315\n",
       "3  0.011807  2.185876  1.782601  1.965264 -1.386367  0.789775  1.500699\n",
       "4  0.591911  1.102655  1.687513  2.422992  0.825330 -1.983531  0.473926\n",
       "5 -0.995780 -0.042564  0.128095 -0.767180  0.100798 -1.165636  0.400331\n",
       "6  1.207083 -0.361263 -1.095566  1.390458  1.829709  0.229821  1.965907\n",
       "7 -1.330909  1.014279 -0.288265  0.870741 -1.461545  0.322892  0.402167\n",
       "8 -1.529603  0.052821  2.925683 -0.481913  0.308598 -0.004559 -0.971918\n",
       "9 -1.012437 -0.788339  0.772239 -0.781385 -0.931739 -0.875302  0.080511"
      ]
     },
     "execution_count": 35,
     "metadata": {},
     "output_type": "execute_result"
    }
   ],
   "source": [
    "df.filter(regex='[A-CEG-I]')"
   ]
  },
  {
   "cell_type": "markdown",
   "metadata": {
    "collapsed": true
   },
   "source": [
    "## Clean the data "
   ]
  },
  {
   "cell_type": "markdown",
   "metadata": {},
   "source": [
    "##### Fill NAs & Null Values"
   ]
  },
  {
   "cell_type": "code",
   "execution_count": 17,
   "metadata": {
    "collapsed": false
   },
   "outputs": [
    {
     "data": {
      "text/plain": [
       "America/New_York       1251\n",
       "Unknown                 521\n",
       "America/Chicago         400\n",
       "America/Los_Angeles     382\n",
       "America/Denver          191\n",
       "Missing                 120\n",
       "Europe/London            74\n",
       "Asia/Tokyo               37\n",
       "Pacific/Honolulu         36\n",
       "Europe/Madrid            35\n",
       "Name: tz, dtype: int64"
      ]
     },
     "execution_count": 17,
     "metadata": {},
     "output_type": "execute_result"
    }
   ],
   "source": [
    "clean_tz = frame['tz'].fillna('Missing')\n",
    "clean_tz[clean_tz == ''] = 'Unknown'\n",
    "tz_count = clean_tz.value_counts()\n",
    "tz_count[:10]"
   ]
  },
  {
   "cell_type": "markdown",
   "metadata": {},
   "source": [
    "### Plot Tz Counts"
   ]
  },
  {
   "cell_type": "code",
   "execution_count": 46,
   "metadata": {
    "collapsed": false,
    "scrolled": true
   },
   "outputs": [
    {
     "data": {
      "text/plain": [
       "'\\nkind : str\\n‘line’ : line plot (default)\\n‘bar’ : vertical bar plot\\n‘barh’ : horizontal bar plot\\n‘hist’ : histogram\\n‘box’ : boxplot\\n‘kde’ : Kernel Density Estimation plot\\n‘density’ : same as ‘kde’\\n‘area’ : area plot\\n‘pie’ : pie plot\\n‘scatter’ : scatter plot\\n‘hexbin’ : hexbin plot\\n\\nrot : int, default None\\nRotation for ticks (xticks for vertical, yticks for horizontal plots)\\n'"
      ]
     },
     "execution_count": 46,
     "metadata": {},
     "output_type": "execute_result"
    },
    {
     "data": {
      "image/png": "[encoded data removed]",
      "text/plain": [
       "<matplotlib.figure.Figure at 0xbb90048>"
      ]
     },
     "metadata": {},
     "output_type": "display_data"
    }
   ],
   "source": [
    "%matplotlib inline \n",
    "# Necessary to display the graphic in Jupyter Notebook\n",
    "\n",
    "tz_count[:10].plot(kind = 'barh', rot = 0)\n",
    "\n",
    "\"\"\"\n",
    "kind : str\n",
    "‘line’ : line plot (default)\n",
    "‘bar’ : vertical bar plot\n",
    "‘barh’ : horizontal bar plot\n",
    "‘hist’ : histogram\n",
    "‘box’ : boxplot\n",
    "‘kde’ : Kernel Density Estimation plot\n",
    "‘density’ : same as ‘kde’\n",
    "‘area’ : area plot\n",
    "‘pie’ : pie plot\n",
    "‘scatter’ : scatter plot\n",
    "‘hexbin’ : hexbin plot\n",
    "\n",
    "rot : int, default None\n",
    "Rotation for ticks (xticks for vertical, yticks for horizontal plots)\n",
    "\"\"\""
   ]
  },
  {
   "cell_type": "markdown",
   "metadata": {},
   "source": [
    "### Parse a string "
   ]
  },
  {
   "cell_type": "code",
   "execution_count": 50,
   "metadata": {
    "collapsed": false,
    "scrolled": true
   },
   "outputs": [
    {
     "data": {
      "text/plain": [
       "0    Mozilla/5.0 (Windows NT 6.1; WOW64) AppleWebKi...\n",
       "1                               GoogleMaps/RochesterNY\n",
       "2    Mozilla/4.0 (compatible; MSIE 8.0; Windows NT ...\n",
       "3    Mozilla/5.0 (Macintosh; Intel Mac OS X 10_6_8)...\n",
       "4    Mozilla/5.0 (Windows NT 6.1; WOW64) AppleWebKi...\n",
       "5    Mozilla/5.0 (Windows NT 6.1; WOW64) AppleWebKi...\n",
       "6    Mozilla/5.0 (Windows NT 5.1) AppleWebKit/535.1...\n",
       "7    Mozilla/5.0 (Windows NT 6.1; rv:2.0.1) Gecko/2...\n",
       "8    Opera/9.80 (X11; Linux zbov; U; en) Presto/2.1...\n",
       "9    Mozilla/5.0 (Windows NT 6.1; WOW64) AppleWebKi...\n",
       "Name: a, dtype: object"
      ]
     },
     "execution_count": 50,
     "metadata": {},
     "output_type": "execute_result"
    }
   ],
   "source": [
    "frame[\"a\"][:10] # Long string with too much information\n",
    "\n",
    "# Note: frame[\"column name\"] because I named the dataframe \"frame\" (yeah...)"
   ]
  },
  {
   "cell_type": "code",
   "execution_count": 54,
   "metadata": {
    "collapsed": false
   },
   "outputs": [],
   "source": [
    "results = Series([x.split()[0] for x in frame.a.dropna()])\n",
    "\n",
    "# Series is a one-dimensional labeled array capable of holding any data type \n",
    "# (integers, strings, floating point numbers, Python objects, etc.)"
   ]
  },
  {
   "cell_type": "code",
   "execution_count": 73,
   "metadata": {
    "collapsed": false
   },
   "outputs": [
    {
     "name": "stdout",
     "output_type": "stream",
     "text": [
      "Result 1:\n",
      "0    Mozilla/5.0 (Windows NT 6.1; WOW64) AppleWebKi...\n",
      "Name: a, dtype: object\n",
      "\n",
      "Result 2:\n",
      "['Mozilla/5.0', '(Windows', 'NT', '6.1;', 'WOW64)', 'AppleWebKit/535.11', '(KHTML,', 'like', 'Gecko)', 'Chrome/17.0.963.78', 'Safari/535.11']\n",
      "\n",
      "Result 3:\n",
      "Mozilla/5.0\n"
     ]
    },
    {
     "data": {
      "text/plain": [
       "(None, None)"
      ]
     },
     "execution_count": 73,
     "metadata": {},
     "output_type": "execute_result"
    }
   ],
   "source": [
    "# Why .split()[0]? Because want first substring \n",
    "# Details:\n",
    "\n",
    "strg = frame[\"a\"][:1] # first row\n",
    "print (\"Result 1:\"), print(strg)\n",
    "print('')\n",
    "\n",
    "strg = strg[0] # content of the dataframe (to be able to pass a string in the function below)\n",
    "print (\"Result 2:\"), print(strg.split())\n",
    "print('')\n",
    "\n",
    "print (\"Result 3:\"), print(strg.split()[0])\n"
   ]
  },
  {
   "cell_type": "code",
   "execution_count": 74,
   "metadata": {
    "collapsed": false
   },
   "outputs": [
    {
     "data": {
      "text/plain": [
       "Mozilla/5.0                 2594\n",
       "Mozilla/4.0                  601\n",
       "GoogleMaps/RochesterNY       121\n",
       "Opera/9.80                    34\n",
       "TEST_INTERNET_AGENT           24\n",
       "GoogleProducer                21\n",
       "Mozilla/6.0                    5\n",
       "BlackBerry8520/5.0.0.681       4\n",
       "dtype: int64"
      ]
     },
     "execution_count": 74,
     "metadata": {},
     "output_type": "execute_result"
    }
   ],
   "source": [
    "results.value_counts()[:8]"
   ]
  },
  {
   "cell_type": "markdown",
   "metadata": {},
   "source": [
    "### Decompose Top Time Zones by Windows vs. Non- Windows Users"
   ]
  },
  {
   "cell_type": "code",
   "execution_count": 87,
   "metadata": {
    "collapsed": false
   },
   "outputs": [
    {
     "data": {
      "text/plain": [
       "array(['Windows', 'Not Windows', 'Windows', 'Not Windows', 'Windows'], \n",
       "      dtype='<U11')"
      ]
     },
     "execution_count": 87,
     "metadata": {},
     "output_type": "execute_result"
    }
   ],
   "source": [
    "import numpy as np\n",
    "\n",
    "# Exclude missing agents (\"agents\" = \"a\")\n",
    "cframe = frame[frame.a.notnull()] \n",
    "\n",
    "# Si contient le mot \"Windows\" dans la colonne \"a(gent)\", attribut lui \"Windows\" comme OS\n",
    "operating_system = np.where(cframe['a'].str.contains(\"Windows\"), \"Windows\", \"Not Windows\") \n",
    "\n",
    "operating_system[:5]"
   ]
  },
  {
   "cell_type": "code",
   "execution_count": null,
   "metadata": {
    "collapsed": true
   },
   "outputs": [],
   "source": []
  }
 ],
 "metadata": {
  "kernelspec": {
   "display_name": "Python [Root]",
   "language": "python",
   "name": "Python [Root]"
  },
  "language_info": {
   "codemirror_mode": {
    "name": "ipython",
    "version": 3
   },
   "file_extension": ".py",
   "mimetype": "text/x-python",
   "name": "python",
   "nbconvert_exporter": "python",
   "pygments_lexer": "ipython3",
   "version": "3.5.2"
  }
 },
 "nbformat": 4,
 "nbformat_minor": 0
}
