{
 "cells": [
  {
   "cell_type": "markdown",
   "metadata": {},
   "source": [
    "# Precision - Recall "
   ]
  },
  {
   "cell_type": "markdown",
   "metadata": {},
   "source": [
    "#### Sources: \n",
    "\n",
    "http://scikit-learn.org/stable/auto_examples/model_selection/plot_precision_recall.html\n",
    "\n",
    "http://scikit-learn.org/stable/tutorial/statistical_inference/supervised_learning.html\n",
    "       "
   ]
  },
  {
   "cell_type": "code",
   "execution_count": null,
   "metadata": {
    "collapsed": false
   },
   "outputs": [],
   "source": [
    "print(__doc__)"
   ]
  },
  {
   "cell_type": "code",
   "execution_count": null,
   "metadata": {
    "collapsed": true
   },
   "outputs": [],
   "source": [
    "import matplotlib.pyplot as plt\n",
    "import numpy as np\n",
    "from itertools import cycle"
   ]
  },
  {
   "cell_type": "code",
   "execution_count": null,
   "metadata": {
    "collapsed": false
   },
   "outputs": [],
   "source": [
    "from sklearn import svm, datasets\n",
    "from sklearn.metrics import precision_recall_curve\n",
    "from sklearn.metrics import average_precision_score\n",
    "from sklearn.cross_validation import train_test_split\n",
    "from sklearn.preprocessing import label_binarize\n",
    "from sklearn.multiclass import OneVsRestClassifier"
   ]
  },
  {
   "cell_type": "markdown",
   "metadata": {},
   "source": [
    "###### Import some data to play with"
   ]
  },
  {
   "cell_type": "code",
   "execution_count": 3,
   "metadata": {
    "collapsed": true
   },
   "outputs": [],
   "source": [
    "iris = datasets.load_iris()\n",
    "X = iris.data\n",
    "y = iris.target #target is synonym of:label, class, name of object (in this exemple, classes = types of flower)"
   ]
  },
  {
   "cell_type": "markdown",
   "metadata": {},
   "source": [
    "###### Set up plot details"
   ]
  },
  {
   "cell_type": "code",
   "execution_count": 7,
   "metadata": {
    "collapsed": false
   },
   "outputs": [],
   "source": [
    "colors = cycle(['navy', 'turquoise', 'darkorange', 'cornflowerblue', 'teal'])\n",
    "lw = 2\n",
    "\n",
    "#Cycle generates an infinitely repeating series of values. \n",
    "#It receives an iterable collection. And it repeats those elements (in a cycle) endlessly, \n",
    "# with no concern for your feelings"
   ]
  },
  {
   "cell_type": "markdown",
   "metadata": {},
   "source": [
    "###### Binarize the output"
   ]
  },
  {
   "cell_type": "code",
   "execution_count": 8,
   "metadata": {
    "collapsed": true
   },
   "outputs": [],
   "source": [
    "y = label_binarize(y, classes = [0,1,2])\n",
    "n_classes = y.shape[1] # Nb of columns in y i.e. nb of classes (see below)\n",
    "\n",
    "# sklearn.preprocessing.label_binarize(y, classes, neg_label=0, pos_label=1, sparse_output=False)\n",
    "# Binarize labels in a one-vs-all fashion\n",
    "\n",
    "# Several regression and binary classification algorithms are available in the scikit. \n",
    "# A simple way to extend these algorithms to the multi-class classification case is to use the so-called one-vs-all scheme.\n",
    "\n",
    "# Returns:\n",
    "# Y : numpy array or CSR matrix of shape [n_samples, n_classes]\n",
    "# Shape will be [n_samples, 1] for binary problems.\n",
    "\n",
    "# Source: http://scikit-learn.org/stable/modules/generated/sklearn.preprocessing.label_binarize.html#sklearn.preprocessing.label_binarize"
   ]
  },
  {
   "cell_type": "markdown",
   "metadata": {},
   "source": [
    "###### Add noisy features"
   ]
  },
  {
   "cell_type": "code",
   "execution_count": 18,
   "metadata": {
    "collapsed": false
   },
   "outputs": [
    {
     "data": {
      "text/plain": [
       "'In [46]: Y = np.arange(12).reshape(3,4)\\n\\nIn [47]: Y\\nOut[47]: \\narray([[ 0,  1,  2,  3],\\n       [ 4,  5,  6,  7],\\n       [ 8,  9, 10, 11]])\\n\\nIn [48]: Y.shape\\nOut[48]: (3, 4)\\n\\nIn [49]: Y.shape[0]\\nOut[49]: 3\\n\\n'"
      ]
     },
     "execution_count": 18,
     "metadata": {},
     "output_type": "execute_result"
    }
   ],
   "source": [
    "random_state = np.random.RandomState(0)\n",
    "\n",
    "# np.random.RandomState()\n",
    "# constructs a random number generator. \n",
    "# It does not have any effect on the freestanding functions in np.random, but must be used explicitly:\n",
    "\n",
    "n_samples, n_features = X.shape\n",
    "\n",
    "# The shape attribute for numpy arrays returns the dimensions of the array. \n",
    "# If Y has n rows and m columns, then Y.shape is (n,m). So Y.shape[0] is n.\n",
    "\n",
    "\"\"\"In [46]: Y = np.arange(12).reshape(3,4)\n",
    "\n",
    "In [47]: Y\n",
    "Out[47]: \n",
    "array([[ 0,  1,  2,  3],\n",
    "       [ 4,  5,  6,  7],\n",
    "       [ 8,  9, 10, 11]])\n",
    "\n",
    "In [48]: Y.shape\n",
    "Out[48]: (3, 4)\n",
    "\n",
    "In [49]: Y.shape[0]\n",
    "Out[49]: 3\n",
    "\n",
    "\"\"\""
   ]
  },
  {
   "cell_type": "code",
   "execution_count": 24,
   "metadata": {
    "collapsed": false
   },
   "outputs": [
    {
     "name": "stdout",
     "output_type": "stream",
     "text": [
      "Rows: 150\n",
      "Columns: 4\n"
     ]
    }
   ],
   "source": [
    " print(\"Rows: %s\" % n_samples)\n",
    " print(\"Columns: %s\" % n_features)"
   ]
  },
  {
   "cell_type": "code",
   "execution_count": 30,
   "metadata": {
    "collapsed": false
   },
   "outputs": [
    {
     "data": {
      "text/plain": [
       "array([[1, 2, 3, 0, 0, 4, 5, 6]])"
      ]
     },
     "execution_count": 30,
     "metadata": {},
     "output_type": "execute_result"
    }
   ],
   "source": [
    "X = np.c_[X, random_state.randn(n_samples, 200 * n_features)] #concatenate noise and original data\n",
    "\n",
    "# numpy.random.randn(d0, d1, ..., dn): \n",
    "# Return a sample (or samples) from the “standard normal” distribution\n",
    "# Parameters: d0, d1, ..., dn : int, optional. The dimensions of the returned array, should be all positive. \n",
    " # If no argument is given a single Python float is returned.\n",
    "\n",
    "# exemple of concatenation: \n",
    "\n",
    "np.c_[np.array([[1,2,3]]), 0, 0, np.array([[4,5,6]])]"
   ]
  },
  {
   "cell_type": "markdown",
   "metadata": {},
   "source": [
    "###### Split into training and test"
   ]
  },
  {
   "cell_type": "code",
   "execution_count": 40,
   "metadata": {
    "collapsed": false
   },
   "outputs": [],
   "source": [
    "X_train, X_test, y_train, y_test = train_test_split(X,y,test_size = .5,\n",
    "                                                   random_state = random_state) \n",
    "                                                   # split X and y in half and send each portion to respective set\n",
    "\n",
    "# http://scikit-learn.org/0.16/modules/generated/sklearn.cross_validation.train_test_split.html "
   ]
  },
  {
   "cell_type": "markdown",
   "metadata": {},
   "source": [
    "###### Run classifier"
   ]
  },
  {
   "cell_type": "code",
   "execution_count": 44,
   "metadata": {
    "collapsed": false
   },
   "outputs": [],
   "source": [
    "classifier = OneVsRestClassifier(svm.SVC(kernel = 'linear', probability = True, random_state = random_state))\n",
    "\n",
    "# SCV = Supor Vector Classification \n",
    "\n",
    "# class sklearn.multiclass.OneVsRestClassifier(estimator, n_jobs=1)\n",
    "\n",
    "# Also known as one-vs-all, this strategy consists in fitting one classifier per class. \n",
    "# For each classifier, the class is fitted against all the other classes. \n",
    "# In addition to its computational efficiency (only n_classes classifiers are needed), \n",
    "# one advantage of this approach is its interpretability. Since each class is represented by one \n",
    "# and one classifier only, it is possible to gain knowledge about the class by inspecting its corresponding classifier. \n",
    "# This is the most commonly used strategy for multiclass classification and is a fair default choice.\n",
    "\n",
    "# Source: http://scikit-learn.org/stable/modules/generated/sklearn.multiclass.OneVsRestClassifier.html\n",
    "\n",
    "# Fit model using features, X, and labels, Y.\n",
    "y_score = classifier.fit(X_train,y_train).decision_function(X_test)\n",
    "\n",
    "# decision_function is only used with a SVM classifier reason being it gives out the distance of your data points \n",
    "# from the hyperplane that separates the data\n",
    "# Source: http://stackoverflow.com/questions/38437845/onevsrestclassifier-and-random-forest\n",
    "\n",
    "# The decision function tells us on which side of the hyperplane generated by the classifier we are \n",
    "# (and how far we are away from it). Based on that information, the estimator then label the examples \n",
    "# with the corresponding label.\n",
    "\n",
    "# When you call decision_function(), you get the output from each of the pairwise classifiers (n*(n-1)/2 numbers total). \n",
    "# See pages 127 and 128 of \"Support Vector Machines for Pattern Classification\".\n",
    "\n",
    "# Each classifier puts in a vote as to what the correct answer is (based on the sign of the output of that classifier); \n",
    "# predict() returns the class with the most votes.\n",
    "# Source: http://stackoverflow.com/questions/20113206/scikit-learn-svc-decision-function-and-predict"
   ]
  },
  {
   "cell_type": "markdown",
   "metadata": {},
   "source": [
    "###### Compute Precision - Recall and plot curve"
   ]
  },
  {
   "cell_type": "code",
   "execution_count": 55,
   "metadata": {
    "collapsed": false
   },
   "outputs": [],
   "source": [
    "precision = dict() # Dictionnary\n",
    "recall = dict()\n",
    "average_precision = dict()\n",
    "\n",
    "for i in range(n_classes):\n",
    "    precision[i], recall[i], _ = precision_recall_curve(y_test[:,i],y_score[:,i]) # Compute precision-recall pairs \n",
    "                                                                                  # for different probability thresholds\n",
    "                                                                                  # \"_\" stands for threshold (?)\n",
    "    average_precision[i] = average_precision_score(y_test[:,i], y_score[:,i]) \n",
    "    # Compute average precision (AP) from prediction score.\n",
    "    # This score corresponds to the area under the precision-recall curve.\n",
    "    # Returns: average_precision : float\n",
    "    \n",
    "# The precision is the ratio tp / (tp + fp) where tp is the number of true positives and fp the number of false positives. \n",
    "  # The precision is intuitively the ability of the classifier not to label as positive a sample that is negative.\n",
    "# The recall is the ratio tp / (tp + fn) where tp is the number of true positives and fn the number of false negatives. \n",
    "  # The recall is intuitively the ability of the classifier to find all the positive samples."
   ]
  },
  {
   "cell_type": "markdown",
   "metadata": {},
   "source": [
    "##### Compute micro-average ROC curve and ROC area"
   ]
  },
  {
   "cell_type": "code",
   "execution_count": 58,
   "metadata": {
    "collapsed": false
   },
   "outputs": [],
   "source": [
    "precision[\"micro\"], recall[\"micro\"], _ = precision_recall_curve(y_test.ravel(), y_score.ravel()) \n",
    "# ravel() Return a contiguous flattened array.\n",
    "\n",
    "average_precision[\"micro\"] = average_precision_score(y_test, y_score, average = \"micro\")\n",
    "\n",
    "# average : If None, the scores for each class are returned. \n",
    "# Otherwise, this determines the type of averaging performed on the data:\n",
    "\n",
    "# 'micro':\n",
    " # Calculate metrics globally by considering each element of the label indicator matrix as a label.\n"
   ]
  },
  {
   "cell_type": "markdown",
   "metadata": {},
   "source": [
    "##### Plot Precision-Recall Curve"
   ]
  },
  {
   "cell_type": "code",
   "execution_count": null,
   "metadata": {
    "collapsed": false
   },
   "outputs": [],
   "source": [
    "plt.clf() # Clear figure with all its axes, but leaves the window opened, such that it may be reused for other plots.\n",
    "\n",
    "plt.plot(recall[0], precision[0], lw = lw, color = 'navy', label = 'Precision-revall Curve')\n",
    "plt.xlabel('Recall')\n",
    "plt.ylabel('Precision')\n",
    "plt.ylim([0.0,1.05])\n",
    "plt.ylim([0.0,1.0])\n",
    "plt.title(\"Precision-Recall exemple: AUC = {0:0.2f}\".format(average_precision[0]))\n",
    "plt.legend(loc = \"lower left\")\n",
    "plt.show()\n",
    "\n",
    "## Works in Spyder"
   ]
  },
  {
   "cell_type": "markdown",
   "metadata": {},
   "source": [
    "##### Plot Precision - Recall curve for each class"
   ]
  },
  {
   "cell_type": "code",
   "execution_count": null,
   "metadata": {
    "collapsed": true
   },
   "outputs": [],
   "source": [
    "plt.clf()\n",
    "plt.plot(recall['micro'], precision['micro'], color = \"gold\", lw = lw, \n",
    "         label = \"micro-average Precision - recall curve (area = {0:0.2f})\"\n",
    "                 ''.format(average_precision['micro']))\n",
    "for i, color in zip(range(n_classes), colors):\n",
    "    plt.plot(recall[i], precision[i], color = color, lw = lw,\n",
    "            label = \"Precision - recal curve of class {0} (area = {0:0.2f})\"\n",
    "            ''.format(i,average_precision[i]))\n",
    "\n",
    "plt.xlabel('Recall')\n",
    "plt.ylabel('Precision')\n",
    "plt.ylim([0.0,1.05])\n",
    "plt.ylim([0.0,1.0])\n",
    "plt.title(\"Extension of Precision- Recall curve to multi-class\")\n",
    "plt.legend(loc = \"lower left\")\n",
    "plt.show()"
   ]
  },
  {
   "cell_type": "code",
   "execution_count": null,
   "metadata": {
    "collapsed": true
   },
   "outputs": [],
   "source": [
    "\n"
   ]
  }
 ],
 "metadata": {
  "anaconda-cloud": {},
  "kernelspec": {
   "display_name": "Python [Root]",
   "language": "python",
   "name": "Python [Root]"
  },
  "language_info": {
   "codemirror_mode": {
    "name": "ipython",
    "version": 3
   },
   "file_extension": ".py",
   "mimetype": "text/x-python",
   "name": "python",
   "nbconvert_exporter": "python",
   "pygments_lexer": "ipython3",
   "version": "3.5.2"
  }
 },
 "nbformat": 4,
 "nbformat_minor": 0
}
