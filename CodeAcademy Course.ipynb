{
 "metadata": {
  "name": "",
  "signature": "sha256:a0009996dc11b1672709d89f1a511176728faaaf20dfba8530c7b46fd927335c"
 },
 "nbformat": 3,
 "nbformat_minor": 0,
 "worksheets": [
  {
   "cells": [
    {
     "cell_type": "heading",
     "level": 3,
     "metadata": {},
     "source": [
      "Simple errors\n"
     ]
    },
    {
     "cell_type": "markdown",
     "metadata": {},
     "source": [
      "A common application of a while loop is to check user input to see if it is valid. For example, if you ask the user to enter y or n and they instead enter 7, then you should re-prompt them for input."
     ]
    },
    {
     "cell_type": "heading",
     "level": 4,
     "metadata": {},
     "source": [
      "Instructions"
     ]
    },
    {
     "cell_type": "markdown",
     "metadata": {},
     "source": [
      "Fill in the loop condition so the user will be prompted for a choice over and over while choice does not equal 'y' and choice does not equal 'n'."
     ]
    },
    {
     "cell_type": "code",
     "collapsed": false,
     "input": [
      "choice = raw_input('Enjoying the course? (y/n)')\n",
      "\n",
      "while choice not in (\"y\",\"n\"):  # Fill in the condition (before the colon)\n",
      "    choice = raw_input(\"Sorry, I didn't catch that. Enter again: \")\n",
      "\n"
     ],
     "language": "python",
     "metadata": {},
     "outputs": [
      {
       "name": "stdout",
       "output_type": "stream",
       "stream": "stdout",
       "text": [
        "Enjoying the course? (y/n)y\n"
       ]
      }
     ],
     "prompt_number": 50
    },
    {
     "cell_type": "heading",
     "level": 3,
     "metadata": {},
     "source": [
      "Break"
     ]
    },
    {
     "cell_type": "markdown",
     "metadata": {},
     "source": [
      "The break is a one-line statement that means \"exit the current loop.\" An alternate way to make our counting loop exit and stop executing is with the break statement.\n",
      "\n",
      "First, create a while with a condition that is always true. The simplest way is shown.\n",
      "\n",
      "Using an if statement, you define the stopping condition. Inside the if, you write break, meaning \"exit the loop.\"\n",
      "\n",
      "The difference here is that this loop is guaranteed to run at least once."
     ]
    },
    {
     "cell_type": "heading",
     "level": 4,
     "metadata": {},
     "source": [
      "Instructions"
     ]
    },
    {
     "cell_type": "markdown",
     "metadata": {},
     "source": [
      "See what the break does? Feel free to mess around with it (but make sure you don't cause an infinite loop)! Click Save & Submit Code when you're ready to continue."
     ]
    },
    {
     "cell_type": "code",
     "collapsed": false,
     "input": [
      "count = 0\n",
      "\n",
      "while True:\n",
      "    print count\n",
      "    count += 1\n",
      "    if count >= 10:\n",
      "        break"
     ],
     "language": "python",
     "metadata": {},
     "outputs": [
      {
       "output_type": "stream",
       "stream": "stdout",
       "text": [
        "0\n",
        "1\n",
        "2\n",
        "3\n",
        "4\n",
        "5\n",
        "6\n",
        "7\n",
        "8\n",
        "9\n"
       ]
      }
     ],
     "prompt_number": 7
    },
    {
     "cell_type": "heading",
     "level": 3,
     "metadata": {},
     "source": [
      "While / else"
     ]
    },
    {
     "cell_type": "markdown",
     "metadata": {},
     "source": [
      "Something completely different about Python is the while/else construction. while/else is similar to if/else, but there is a difference: the else block will execute anytime the loop condition is evaluated to False. This means that it will execute if the loop is never entered or if the loop exits normally. If the loop exits as the result of a break, the else will not be executed.\n",
      "\n",
      "In this example, the loop will break if a 5 is generated, and the else will not execute. Otherwise, after 3 numbers are generated, the loop condition will become false and the else will execute."
     ]
    },
    {
     "cell_type": "code",
     "collapsed": false,
     "input": [
      "import random\n",
      "\n",
      "print \"Lucky Numbers! 3 numbers will be generated.\"\n",
      "print \"If one of them is a '5', you lose!\"\n",
      "\n",
      "count = 0\n",
      "while count < 3:\n",
      "    num = random.randint(1, 6)\n",
      "    print num\n",
      "    if num == 5:\n",
      "        print \"Sorry, you lose!\"\n",
      "        break\n",
      "    count += 1\n",
      "else:\n",
      "    print \"You win!\""
     ],
     "language": "python",
     "metadata": {},
     "outputs": [
      {
       "output_type": "stream",
       "stream": "stdout",
       "text": [
        "Lucky Numbers! 3 numbers will be generated.\n",
        "If one of them is a '5', you lose!\n",
        "5\n",
        "Sorry, you lose!\n"
       ]
      }
     ],
     "prompt_number": 6
    },
    {
     "cell_type": "heading",
     "level": 3,
     "metadata": {},
     "source": [
      "Your own while / else\n"
     ]
    },
    {
     "cell_type": "markdown",
     "metadata": {},
     "source": [
      "Now you should be able to make a game similar to the one in the last exercise. \n",
      "\n",
      "In this exercise, allow the user to guess what the number is three times."
     ]
    },
    {
     "cell_type": "code",
     "collapsed": false,
     "input": [
      "guess = int(raw_input(\"Your guess: \"))"
     ],
     "language": "python",
     "metadata": {},
     "outputs": [
      {
       "name": "stdout",
       "output_type": "stream",
       "stream": "stdout",
       "text": [
        "Your guess: 3\n"
       ]
      }
     ],
     "prompt_number": 2
    },
    {
     "cell_type": "markdown",
     "metadata": {},
     "source": [
      "Remember, raw_input turns user input into a string, so we use int() to make it a number again."
     ]
    },
    {
     "cell_type": "heading",
     "level": 4,
     "metadata": {},
     "source": [
      "Instructions"
     ]
    },
    {
     "cell_type": "markdown",
     "metadata": {},
     "source": [
      "Use a while loop to let the user keep guessing so long as guesses_left is greater than zero.\n",
      "Ask the user for their guess, just like the second example above.\n",
      "If they guess correctly, print 'You win!' and break.\n",
      "Decrement guesses_left by one.\n",
      "Use an else: case after your while loop to print You lose.."
     ]
    },
    {
     "cell_type": "code",
     "collapsed": false,
     "input": [
      "from random import randint\n",
      "\n",
      "# Generates a number from 1 through 10 inclusive\n",
      "random_number = randint(1,10)\n",
      "\n",
      "guesses_left = 3\n",
      "# Start your game!\n",
      "while guesses_left > 0:\n",
      "    guess = raw_input(\"Guess a number:\")\n",
      "    if int(guess) == random_number:\n",
      "        print \"You win!\"\n",
      "        break\n",
      "    guesses_left -= 1\n",
      "else:\n",
      "    print \"You lose\""
     ],
     "language": "python",
     "metadata": {},
     "outputs": [
      {
       "name": "stdout",
       "output_type": "stream",
       "stream": "stdout",
       "text": [
        "Guess a number:6\n"
       ]
      },
      {
       "name": "stdout",
       "output_type": "stream",
       "stream": "stdout",
       "text": [
        "Guess a number:7\n"
       ]
      },
      {
       "name": "stdout",
       "output_type": "stream",
       "stream": "stdout",
       "text": [
        "Guess a number:2\n"
       ]
      },
      {
       "output_type": "stream",
       "stream": "stdout",
       "text": [
        "You lose\n"
       ]
      }
     ],
     "prompt_number": 4
    },
    {
     "cell_type": "heading",
     "level": 3,
     "metadata": {},
     "source": [
      "For your hobbies"
     ]
    },
    {
     "cell_type": "markdown",
     "metadata": {},
     "source": [
      "This kind of loop is useful when you want to do something a certain number of times, such as append something to the end of a list."
     ]
    },
    {
     "cell_type": "heading",
     "level": 4,
     "metadata": {},
     "source": [
      "Instructions"
     ]
    },
    {
     "cell_type": "markdown",
     "metadata": {},
     "source": [
      "Create a for loop that prompts the user for a hobby 3 times, then appends each one to hobbies."
     ]
    },
    {
     "cell_type": "code",
     "collapsed": false,
     "input": [
      "hobbies = []\n",
      "\n",
      "# Add your code below!\n",
      "for i in range(3):\n",
      "    hobby = raw_input(\"Give your hobby # %s:\" % str(i+1))\n",
      "    hobbies.append(hobby)\n",
      "    i += 1\n",
      "\n",
      "print \" and \".join(hobbies)"
     ],
     "language": "python",
     "metadata": {},
     "outputs": [
      {
       "name": "stdout",
       "output_type": "stream",
       "stream": "stdout",
       "text": [
        "Give your hobby # 1:books\n"
       ]
      },
      {
       "name": "stdout",
       "output_type": "stream",
       "stream": "stdout",
       "text": [
        "Give your hobby # 2:study\n"
       ]
      },
      {
       "name": "stdout",
       "output_type": "stream",
       "stream": "stdout",
       "text": [
        "Give your hobby # 3:video games\n"
       ]
      },
      {
       "output_type": "stream",
       "stream": "stdout",
       "text": [
        "books and study and video games\n"
       ]
      }
     ],
     "prompt_number": 6
    },
    {
     "cell_type": "heading",
     "level": 3,
     "metadata": {},
     "source": [
      "For your A"
     ]
    },
    {
     "cell_type": "heading",
     "level": 5,
     "metadata": {},
     "source": [
      "String manipulation is useful in for loops if you want to modify some content in a string."
     ]
    },
    {
     "cell_type": "code",
     "collapsed": false,
     "input": [
      "word = \"Marble\"\n",
      "for char in word:\n",
      "    print char,"
     ],
     "language": "python",
     "metadata": {},
     "outputs": [
      {
       "output_type": "stream",
       "stream": "stdout",
       "text": [
        "M a r b l e\n"
       ]
      }
     ],
     "prompt_number": 7
    },
    {
     "cell_type": "markdown",
     "metadata": {},
     "source": [
      "The example above iterates through each character in word and, in the end, prints out M a r b l e.\n",
      "\n",
      "The , character after our print statement means that our next print statement keeps printing on the same line."
     ]
    },
    {
     "cell_type": "heading",
     "level": 4,
     "metadata": {},
     "source": [
      "Instructions"
     ]
    },
    {
     "cell_type": "markdown",
     "metadata": {},
     "source": [
      "Let's filter out the letter 'A' from our string.\n",
      "\n",
      "Do the following for each character in the phrase.\n",
      "If char is an 'A' or char is an 'a', print 'X', instead of char. Make sure to include the trailing comma.\n",
      "Otherwise (else:), please print char, with the trailing comma."
     ]
    },
    {
     "cell_type": "code",
     "collapsed": false,
     "input": [
      "phrase = \"A bird in the hand...\"\n",
      "\n",
      "# Add your for loop\n",
      "for char in phrase:\n",
      "    if char == \"A\" or char == \"a\":\n",
      "        print \"X\",\n",
      "    else:\n",
      "        print char,\n",
      "        \n",
      "\n",
      "#Don't delete this print statement!\n",
      "print"
     ],
     "language": "python",
     "metadata": {},
     "outputs": [
      {
       "output_type": "stream",
       "stream": "stdout",
       "text": [
        "X   b i r d   i n   t h e   h X n d . . .\n"
       ]
      }
     ],
     "prompt_number": 8
    },
    {
     "cell_type": "heading",
     "level": 3,
     "metadata": {},
     "source": [
      "For your lists"
     ]
    },
    {
     "cell_type": "markdown",
     "metadata": {},
     "source": [
      "Perhaps the most useful (and most common) use of for loops is to go through a list.\n",
      "\n",
      "On each iteration, the variable num will be the next value in the list. So, the first time through, it will be 7, the second time it will be 9, then 12, 54, 99, and then the loop will exit when there are no more values in the list."
     ]
    },
    {
     "cell_type": "heading",
     "level": 4,
     "metadata": {},
     "source": [
      "Instructions"
     ]
    },
    {
     "cell_type": "markdown",
     "metadata": {},
     "source": [
      "Write a second for loop that goes through the numbers list and prints each element squared, each on its own line."
     ]
    },
    {
     "cell_type": "code",
     "collapsed": false,
     "input": [
      "numbers  = [7, 9, 12, 54, 99]\n",
      "\n",
      "print \"This list contains: \"\n",
      "\n",
      "for num in numbers:\n",
      "    print num\n",
      "\n",
      "# Add your loop below!\n",
      "for i in numbers:\n",
      "    print i**2"
     ],
     "language": "python",
     "metadata": {},
     "outputs": [
      {
       "output_type": "stream",
       "stream": "stdout",
       "text": [
        "This list contains: \n",
        "7\n",
        "9\n",
        "12\n",
        "54\n",
        "99\n",
        "49\n",
        "81\n",
        "144\n",
        "2916\n",
        "9801\n"
       ]
      }
     ],
     "prompt_number": 9
    },
    {
     "cell_type": "heading",
     "level": 3,
     "metadata": {},
     "source": [
      "Looping over a dictionary"
     ]
    },
    {
     "cell_type": "markdown",
     "metadata": {},
     "source": [
      "You may be wondering how looping over a dictionary would work. Would you get the key or the value?\n",
      "\n",
      "The short answer is: you get the key which you can use to get the value."
     ]
    },
    {
     "cell_type": "code",
     "collapsed": false,
     "input": [
      "d = {'x': 9, 'y': 10, 'z': 20}\n",
      "for key in d:\n",
      "    if d[key] == 10:\n",
      "        print \"This dictionary has the value 10!\""
     ],
     "language": "python",
     "metadata": {},
     "outputs": [
      {
       "output_type": "stream",
       "stream": "stdout",
       "text": [
        "This dictionary has the value 10!\n"
       ]
      }
     ],
     "prompt_number": 10
    },
    {
     "cell_type": "markdown",
     "metadata": {},
     "source": [
      "First, we create a dictionary with strings as the keys and numbers as the values.\n",
      "Then, we iterate through the dictionary, each time storing the key in key.\n",
      "Next, we check if that key's value is equal to 10.\n",
      "Finally, we print This dictionary has the value 10!\n"
     ]
    },
    {
     "cell_type": "heading",
     "level": 4,
     "metadata": {},
     "source": [
      "Instructions"
     ]
    },
    {
     "cell_type": "markdown",
     "metadata": {},
     "source": [
      "On line 5, print the key, followed by a space, followed by the value associated with that key."
     ]
    },
    {
     "cell_type": "code",
     "collapsed": false,
     "input": [
      "d = {'a': 'apple', 'b': 'berry', 'c': 'cherry'}\n",
      "\n",
      "for key in d:\n",
      "    # Your code here!\n",
      "    print key + \" \" + d[key]"
     ],
     "language": "python",
     "metadata": {},
     "outputs": [
      {
       "output_type": "stream",
       "stream": "stdout",
       "text": [
        "a apple\n",
        "c cherry\n",
        "b berry\n"
       ]
      }
     ],
     "prompt_number": 12
    },
    {
     "cell_type": "heading",
     "level": 3,
     "metadata": {},
     "source": [
      "Counting as you go"
     ]
    },
    {
     "cell_type": "markdown",
     "metadata": {},
     "source": [
      "A weakness of using this for-each style of iteration is that you don't know the index of the thing you're looking at. Generally this isn't an issue, but at times it is useful to know how far into the list you are. Thankfully the built-in enumerate function helps with this.\n",
      "\n",
      "enumerate works by supplying a corresponding index to each element in the list that you pass it. Each time you go through the loop, index will be one greater, and item will be the next item in the sequence. It's very similar to using a normal for loop with a list, except this gives us an easy way to count how many items we've seen so far."
     ]
    },
    {
     "cell_type": "heading",
     "level": 4,
     "metadata": {},
     "source": [
      "Instructions"
     ]
    },
    {
     "cell_type": "markdown",
     "metadata": {},
     "source": [
      "We don't want the user to see things listed from index 0, since this looks unnatural. Instead, the items should appear to start at index 1. Modify the print statement to reflect this behavior. See the Hint for help."
     ]
    },
    {
     "cell_type": "markdown",
     "metadata": {},
     "source": [
      "In the for index, item in enumerate(choices): expression index, item is the pair of count, value of each tuple: (0, 'pizza'), (1, 'pasta'), ...\n",
      "\n",
      "We may easily change the start count/index with help of enumerate(sequence, start=0)\n",
      "\n",
      "\n",
      "\n",
      "https://www.codecademy.com/forum_questions/5087f2d786a27b02000041a9"
     ]
    },
    {
     "cell_type": "code",
     "collapsed": false,
     "input": [
      "choices = ['pizza', 'pasta', 'salad', 'nachos']\n",
      "\n",
      "for index, item in enumerate(choices, start = 1):\n",
      "    print index, item\n"
     ],
     "language": "python",
     "metadata": {},
     "outputs": [
      {
       "output_type": "stream",
       "stream": "stdout",
       "text": [
        "1 pizza\n",
        "2 pasta\n",
        "3 salad\n",
        "4 nachos\n"
       ]
      }
     ],
     "prompt_number": 15
    },
    {
     "cell_type": "heading",
     "level": 5,
     "metadata": {},
     "source": [
      "Or: "
     ]
    },
    {
     "cell_type": "code",
     "collapsed": false,
     "input": [
      "choices = ['pizza', 'pasta', 'salad', 'nachos']\n",
      "\n",
      "print 'Your choices are:'\n",
      "for index, item in enumerate(choices):\n",
      "    print index + 1, item"
     ],
     "language": "python",
     "metadata": {},
     "outputs": [
      {
       "output_type": "stream",
       "stream": "stdout",
       "text": [
        "Your choices are:\n",
        "1 pizza\n",
        "2 pasta\n",
        "3 salad\n",
        "4 nachos\n"
       ]
      }
     ],
     "prompt_number": 16
    },
    {
     "cell_type": "heading",
     "level": 3,
     "metadata": {},
     "source": [
      "Multiple lists"
     ]
    },
    {
     "cell_type": "markdown",
     "metadata": {},
     "source": [
      "It's also common to need to iterate over two lists at once. This is where the built-in zip function comes in handy.\n",
      "\n",
      "zip will create pairs of elements when passed two lists, and will stop at the end of the shorter list.\n",
      "\n",
      "zip can handle three or more lists as well!"
     ]
    },
    {
     "cell_type": "heading",
     "level": 4,
     "metadata": {},
     "source": [
      "Instructions"
     ]
    },
    {
     "cell_type": "markdown",
     "metadata": {},
     "source": [
      "Compare each pair of elements and print the larger of the two."
     ]
    },
    {
     "cell_type": "code",
     "collapsed": false,
     "input": [
      "list_a = [3, 9, 17, 15, 19]\n",
      "list_b = [2, 4, 8, 10, 30, 40, 50, 60, 70, 80, 90]\n",
      "\n",
      "for a, b in zip(list_a, list_b):\n",
      "    # Add your code here!\n",
      "    print max(a,b)"
     ],
     "language": "python",
     "metadata": {},
     "outputs": [
      {
       "output_type": "stream",
       "stream": "stdout",
       "text": [
        "3\n",
        "9\n",
        "17\n",
        "15\n",
        "30\n"
       ]
      }
     ],
     "prompt_number": 17
    },
    {
     "cell_type": "heading",
     "level": 3,
     "metadata": {},
     "source": [
      "For / else"
     ]
    },
    {
     "cell_type": "markdown",
     "metadata": {},
     "source": [
      "Just like with while, for loops may have an else associated with them.\n",
      "\n",
      "In this case, the else statement is executed after the for, but only if the for ends normally\u2014that is, not with a break. This code will break when it hits 'tomato', so the else block won't be executed."
     ]
    },
    {
     "cell_type": "code",
     "collapsed": false,
     "input": [
      "fruits = ['banana', 'apple', 'orange', 'tomato', 'pear', 'grape']\n",
      "\n",
      "print 'You have...'\n",
      "for f in fruits:\n",
      "    if f == 'tomato':\n",
      "        print 'A tomato is not a fruit!' # (It actually is.)\n",
      "        break\n",
      "    print 'A', f\n",
      "else:\n",
      "    print 'A fine selection of fruits!'"
     ],
     "language": "python",
     "metadata": {},
     "outputs": [
      {
       "output_type": "stream",
       "stream": "stdout",
       "text": [
        "You have...\n",
        "A banana\n",
        "A apple\n",
        "A orange\n",
        "A tomato is not a fruit!\n"
       ]
      }
     ],
     "prompt_number": 18
    },
    {
     "cell_type": "heading",
     "level": 3,
     "metadata": {},
     "source": [
      "Change it up"
     ]
    },
    {
     "cell_type": "markdown",
     "metadata": {},
     "source": [
      "As mentioned, the else block won't run in this case, since break executes when it hits 'tomato'."
     ]
    },
    {
     "cell_type": "heading",
     "level": 4,
     "metadata": {},
     "source": [
      "Instructions"
     ]
    },
    {
     "cell_type": "markdown",
     "metadata": {},
     "source": [
      "Modify the code in the editor such that the for loop's else statement is executed."
     ]
    },
    {
     "cell_type": "code",
     "collapsed": false,
     "input": [
      "fruits = ['banana', 'apple', 'orange', 'tomato', 'pear', 'grape']\n",
      "\n",
      "print 'You have...'\n",
      "for f in fruits:\n",
      "    if f == 'tomato':\n",
      "        print 'A tomato is not a fruit!' # (It actually is.)\n",
      "    print 'A', f\n",
      "else:\n",
      "    print 'A fine selection of fruits!'"
     ],
     "language": "python",
     "metadata": {},
     "outputs": [
      {
       "output_type": "stream",
       "stream": "stdout",
       "text": [
        "You have...\n",
        "A banana\n",
        "A apple\n",
        "A orange\n",
        "A tomato is not a fruit!\n",
        "A tomato\n",
        "A pear\n",
        "A grape\n",
        "A fine selection of fruits!\n"
       ]
      }
     ],
     "prompt_number": 19
    },
    {
     "cell_type": "heading",
     "level": 3,
     "metadata": {},
     "source": [
      "Create your own"
     ]
    },
    {
     "cell_type": "markdown",
     "metadata": {},
     "source": [
      "To wrap up this lesson, let's create our own for/else statement from scratch."
     ]
    },
    {
     "cell_type": "heading",
     "level": 4,
     "metadata": {},
     "source": [
      "Instructions"
     ]
    },
    {
     "cell_type": "markdown",
     "metadata": {},
     "source": [
      "Build your for/else statement in the editor. Execution of the else branch is optional, but your code should print a string of your choice to the editor regardless."
     ]
    },
    {
     "cell_type": "code",
     "collapsed": false,
     "input": [
      "patients = {\"Marie\": \"anxious\", \"Jean-Yves\": \"dead\", \"Max\": \"sane\", \"Christel\": \"insane\"}\n",
      "\n",
      "for i in patients:\n",
      "    if patients[i] != \"insane\":\n",
      "        print \"patient: %s needs no treatment\" % i \n",
      "    else:\n",
      "        print \"patient: %s needs treatment\" % i \n",
      "#        break\n",
      "else:\n",
      "    print \"No more patients\""
     ],
     "language": "python",
     "metadata": {},
     "outputs": [
      {
       "output_type": "stream",
       "stream": "stdout",
       "text": [
        "patient: Christel needs treatment\n",
        "patient: Max needs no treatment\n",
        "patient: Jean-Yves needs no treatment\n",
        "patient: Marie needs no treatment\n",
        "No more patients\n"
       ]
      }
     ],
     "prompt_number": 20
    },
    {
     "cell_type": "heading",
     "level": 3,
     "metadata": {},
     "source": [
      "is_even"
     ]
    },
    {
     "cell_type": "markdown",
     "metadata": {},
     "source": [
      "All right! Let's get started.\n",
      "\n",
      "Remember how an even number is a number that is divisible by 2?"
     ]
    },
    {
     "cell_type": "heading",
     "level": 4,
     "metadata": {},
     "source": [
      "Instructions"
     ]
    },
    {
     "cell_type": "markdown",
     "metadata": {},
     "source": [
      "Define a function is_even that will take a number x as input.\n",
      "If x is even, then return True.\n",
      "Otherwise, return False."
     ]
    },
    {
     "cell_type": "code",
     "collapsed": false,
     "input": [
      "def is_even(x):\n",
      "    if x%2 ==0:\n",
      "        return True\n",
      "    else:\n",
      "        return False"
     ],
     "language": "python",
     "metadata": {},
     "outputs": [],
     "prompt_number": 21
    },
    {
     "cell_type": "heading",
     "level": 3,
     "metadata": {},
     "source": [
      "is_int"
     ]
    },
    {
     "cell_type": "markdown",
     "metadata": {},
     "source": [
      "An integer is just a number without a decimal part (for instance, -17, 0, and 42 are all integers, but 98.6 is not).\n",
      "\n",
      "For the purpose of this lesson, we'll also say that a number with a decimal part that is all 0s is also an integer, such as 7.0.\n",
      "\n",
      "This means that, for this lesson, you can't just test the input to see if it's of type int.\n",
      "\n",
      "If the difference between a number and that same number rounded down is greater than zero, what does that say about that particular number?"
     ]
    },
    {
     "cell_type": "heading",
     "level": 4,
     "metadata": {},
     "source": [
      "Instructions"
     ]
    },
    {
     "cell_type": "markdown",
     "metadata": {},
     "source": [
      "Define a function is_int that takes a number x as an input.\n",
      "Have it return True if the number is an integer (as defined above) and False otherwise.\n",
      "For example:  "
     ]
    },
    {
     "cell_type": "code",
     "collapsed": false,
     "input": [
      "is_int(7.0)   # True\n",
      "is_int(7.5)   # False\n",
      "is_int(-1)    # True "
     ],
     "language": "python",
     "metadata": {},
     "outputs": [
      {
       "ename": "NameError",
       "evalue": "name 'is_int' is not defined",
       "output_type": "pyerr",
       "traceback": [
        "\u001b[1;31m---------------------------------------------------------------------------\u001b[0m\n\u001b[1;31mNameError\u001b[0m                                 Traceback (most recent call last)",
        "\u001b[1;32m<ipython-input-22-9bc65d7763f4>\u001b[0m in \u001b[0;36m<module>\u001b[1;34m()\u001b[0m\n\u001b[1;32m----> 1\u001b[1;33m \u001b[0mis_int\u001b[0m\u001b[1;33m(\u001b[0m\u001b[1;36m7.0\u001b[0m\u001b[1;33m)\u001b[0m   \u001b[1;31m# True\u001b[0m\u001b[1;33m\u001b[0m\u001b[0m\n\u001b[0m\u001b[0;32m      2\u001b[0m \u001b[0mis_int\u001b[0m\u001b[1;33m(\u001b[0m\u001b[1;36m7.5\u001b[0m\u001b[1;33m)\u001b[0m   \u001b[1;31m# False\u001b[0m\u001b[1;33m\u001b[0m\u001b[0m\n\u001b[0;32m      3\u001b[0m \u001b[0mis_int\u001b[0m\u001b[1;33m(\u001b[0m\u001b[1;33m-\u001b[0m\u001b[1;36m1\u001b[0m\u001b[1;33m)\u001b[0m    \u001b[1;31m# True\u001b[0m\u001b[1;33m\u001b[0m\u001b[0m\n",
        "\u001b[1;31mNameError\u001b[0m: name 'is_int' is not defined"
       ]
      }
     ],
     "prompt_number": 22
    },
    {
     "cell_type": "code",
     "collapsed": false,
     "input": [
      "import math\n",
      "\n",
      "def is_int(x):\n",
      "    if x - math.floor(x) > 0:\n",
      "        return False\n",
      "    else:\n",
      "        return True"
     ],
     "language": "python",
     "metadata": {},
     "outputs": [],
     "prompt_number": 23
    },
    {
     "cell_type": "code",
     "collapsed": false,
     "input": [
      "is_int(7.5)"
     ],
     "language": "python",
     "metadata": {},
     "outputs": [
      {
       "metadata": {},
       "output_type": "pyout",
       "prompt_number": 24,
       "text": [
        "False"
       ]
      }
     ],
     "prompt_number": 24
    },
    {
     "cell_type": "code",
     "collapsed": false,
     "input": [
      "len(n)"
     ],
     "language": "python",
     "metadata": {},
     "outputs": [
      {
       "metadata": {},
       "output_type": "pyout",
       "prompt_number": 33,
       "text": [
        "2"
       ]
      }
     ],
     "prompt_number": 33
    },
    {
     "cell_type": "heading",
     "level": 3,
     "metadata": {},
     "source": [
      "digit_sum"
     ]
    },
    {
     "cell_type": "markdown",
     "metadata": {},
     "source": [
      "Awesome! Now let's try something a little trickier. Try summing the digits of a number."
     ]
    },
    {
     "cell_type": "heading",
     "level": 4,
     "metadata": {},
     "source": [
      "Instructions"
     ]
    },
    {
     "cell_type": "markdown",
     "metadata": {},
     "source": [
      "Write a function called digit_sum that takes a positive integer n as input and returns the sum of all that number's digits.\n",
      "\n",
      "For example: digit_sum(1234) should return 10 which is 1 + 2 + 3 + 4.\n",
      "\n",
      "(Assume that the number you are given will always be positive.)\n",
      "\n",
      "Check the hint if you need help!"
     ]
    },
    {
     "cell_type": "code",
     "collapsed": false,
     "input": [
      "def digit_sum(n):\n",
      "    a = []\n",
      "    b = str(n)\n",
      "    for x in b:\n",
      "        c = int(x)\n",
      "        a.append(c)\n",
      "    x = sum(a)\n",
      "    return x"
     ],
     "language": "python",
     "metadata": {},
     "outputs": [],
     "prompt_number": 34
    },
    {
     "cell_type": "code",
     "collapsed": false,
     "input": [
      "print digit_sum(123)"
     ],
     "language": "python",
     "metadata": {},
     "outputs": [
      {
       "output_type": "stream",
       "stream": "stdout",
       "text": [
        "6\n"
       ]
      }
     ],
     "prompt_number": 35
    },
    {
     "cell_type": "heading",
     "level": 3,
     "metadata": {},
     "source": [
      "factorial"
     ]
    },
    {
     "cell_type": "markdown",
     "metadata": {},
     "source": [
      "All right! Now we're cooking. Let's try a factorial problem.\n",
      "\n",
      "To calculate the factorial of a non-negative integer x, just multiply all the integers from 1 through x. For example:\n",
      "\n",
      "factorial(4) would equal 4 * 3 * 2 * 1, which is 24.\n",
      "factorial(1) would equal 1.\n",
      "factorial(3) would equal 3 * 2 * 1, which is 6.\n"
     ]
    },
    {
     "cell_type": "heading",
     "level": 4,
     "metadata": {},
     "source": [
      "Instructions"
     ]
    },
    {
     "cell_type": "markdown",
     "metadata": {},
     "source": [
      "Define a function factorial that takes an integer x as input.\n",
      "\n",
      "Calculate and return the factorial of that number."
     ]
    },
    {
     "cell_type": "code",
     "collapsed": false,
     "input": [
      "def factorial(n):\n",
      "    fact = 1\n",
      "    i = 2\n",
      "    if n > 1:\n",
      "        while i <= n:\n",
      "            fact = fact*i\n",
      "            i += 1\n",
      "            if i>n:\n",
      "                break\n",
      "        return fact\n",
      "    else:\n",
      "        return fact\n",
      "\n",
      "print factorial(3)"
     ],
     "language": "python",
     "metadata": {},
     "outputs": [
      {
       "output_type": "stream",
       "stream": "stdout",
       "text": [
        "6\n"
       ]
      }
     ],
     "prompt_number": 44
    },
    {
     "cell_type": "heading",
     "level": 3,
     "metadata": {},
     "source": [
      "is_prime"
     ]
    },
    {
     "cell_type": "markdown",
     "metadata": {},
     "source": [
      "A prime number is a positive integer greater than 1 that has no positive divisors other than 1 and itself. (Boy, that's a mouthful.)\n",
      "\n",
      "In other words, if you want to test if a number in a variable x is prime, then no other number should go into x evenly besides 1 and x. So 2 and 5 and 11 are all prime, but 4 and 18 and 21 are not.\n",
      "\n",
      "If there is a number between 1 and x that goes in evenly, then x is not prime."
     ]
    },
    {
     "cell_type": "heading",
     "level": 4,
     "metadata": {},
     "source": [
      "Instructions"
     ]
    },
    {
     "cell_type": "markdown",
     "metadata": {},
     "source": [
      "Define a function called is_prime that takes a number x as input.\n",
      "For each number n from 2 to x - 1, test if x is evenly divisible by n.\n",
      "If it is, return False.\n",
      "If none of them are, then return True."
     ]
    },
    {
     "cell_type": "code",
     "collapsed": false,
     "input": [
      "def is_prime(x):\n",
      "    if x < 2:\n",
      "        return False\n",
      "    else:\n",
      "        if x == 2:\n",
      "            return True\n",
      "        else:\n",
      "            for i in range(2, x):\n",
      "                if x % i == 0:\n",
      "                    return False\n",
      "            return True\n",
      "x = int(raw_input(\"enter a prime number\"))\n",
      "print is_prime(x)"
     ],
     "language": "python",
     "metadata": {},
     "outputs": [
      {
       "name": "stdout",
       "output_type": "stream",
       "stream": "stdout",
       "text": [
        "enter a prime number5\n"
       ]
      },
      {
       "output_type": "stream",
       "stream": "stdout",
       "text": [
        "True\n"
       ]
      }
     ],
     "prompt_number": 45
    },
    {
     "cell_type": "heading",
     "level": 3,
     "metadata": {},
     "source": [
      "Reverse"
     ]
    },
    {
     "cell_type": "markdown",
     "metadata": {},
     "source": [
      "Great work so far! Let's practice writing some functions that work with strings."
     ]
    },
    {
     "cell_type": "heading",
     "level": 4,
     "metadata": {},
     "source": [
      "Instructions"
     ]
    },
    {
     "cell_type": "markdown",
     "metadata": {},
     "source": [
      "Define a function called reverse that takes a string textand returns that string in reverse.\n",
      "\n",
      "For example: reverse(\"abcd\") should return \"dcba\".\n",
      "\n",
      "You may not use reversed or [::-1] to help you with this.\n",
      "You may get a string containing special characters (for example, !, @, or #)"
     ]
    },
    {
     "cell_type": "code",
     "collapsed": false,
     "input": [
      "def reverse(text):\n",
      "    list = []\n",
      "    count = 1\n",
      "    for i in range(0,len(text)):\n",
      "        list.append(text[len(text)-count])\n",
      "        count +=1\n",
      "        \n",
      "    list = \"\".join(list)\n",
      "    return list\n",
      "\n",
      "a = raw_input(\"Enter a text: \")\n",
      "print reverse(a)"
     ],
     "language": "python",
     "metadata": {},
     "outputs": [
      {
       "name": "stdout",
       "output_type": "stream",
       "stream": "stdout",
       "text": [
        "Enter a text: Marie\n"
       ]
      },
      {
       "output_type": "stream",
       "stream": "stdout",
       "text": [
        "eiraM\n"
       ]
      }
     ],
     "prompt_number": 46
    },
    {
     "cell_type": "heading",
     "level": 3,
     "metadata": {},
     "source": [
      "anti_vowel"
     ]
    },
    {
     "cell_type": "markdown",
     "metadata": {},
     "source": [
      "Nice work. Next up: vowels!"
     ]
    },
    {
     "cell_type": "heading",
     "level": 4,
     "metadata": {},
     "source": [
      "Instructions"
     ]
    },
    {
     "cell_type": "markdown",
     "metadata": {},
     "source": [
      "Define a function called anti_vowel that takes one string, text, as input and returns the text with all of the vowels removed.\n",
      "\n",
      "For example: anti_vowel(\"Hey You!\") should return \"Hy Y!\".\n",
      "\n",
      "Don't count Y as a vowel.\n",
      "Make sure to remove lowercase and uppercase vowels."
     ]
    },
    {
     "cell_type": "code",
     "collapsed": false,
     "input": [
      "vowel = [\"a\",\"e\",\"i\",\"o\",\"u\",\"A\",\"E\",\"I\", \"O\", \"U\"]\n",
      "\n",
      "def anti_vowel(text): \n",
      "    lst = [] \n",
      "    for i in text:\n",
      "        lst.append(i)\n",
      "        for j in vowel:\n",
      "            if j == i:\n",
      "                lst.remove(i)\n",
      "                          \n",
      "    return str(\"\".join(lst))\n",
      "    \n",
      "print anti_vowel(\"Marie\")"
     ],
     "language": "python",
     "metadata": {},
     "outputs": [
      {
       "output_type": "stream",
       "stream": "stdout",
       "text": [
        "Mr\n"
       ]
      }
     ],
     "prompt_number": 47
    },
    {
     "cell_type": "heading",
     "level": 3,
     "metadata": {},
     "source": [
      "scrabble_score"
     ]
    },
    {
     "cell_type": "markdown",
     "metadata": {},
     "source": [
      "Scrabble is a game where players get points by spelling words. Words are scored by adding together the point values of each individual letter (we'll leave out the double and triple letter and word scores for now).\n",
      "\n",
      "To the right is a dictionary containing all of the letters in the alphabet with their corresponding Scrabble point values.\n",
      "\n",
      "For example: the word \"Helix\" would score 15 points due to the sum of the letters: 4 + 1 + 1 + 1 + 8."
     ]
    },
    {
     "cell_type": "heading",
     "level": 4,
     "metadata": {},
     "source": [
      "Instructions"
     ]
    },
    {
     "cell_type": "markdown",
     "metadata": {},
     "source": [
      "Define a function scrabble_score that takes a string word as input and returns the equivalent scrabble score for that word.\n",
      "\n",
      "Assume your input is only one word containing no spaces or punctuation.\n",
      "As mentioned, no need to worry about score multipliers!\n",
      "Your function should work even if the letters you get are uppercase, lowercase, or a mix.\n",
      "Assume that you're only given non-empty strings."
     ]
    },
    {
     "cell_type": "code",
     "collapsed": false,
     "input": [
      "score = {\"a\": 1, \"c\": 3, \"b\": 3, \"e\": 1, \"d\": 2, \"g\": 2, \n",
      "         \"f\": 4, \"i\": 1, \"h\": 4, \"k\": 5, \"j\": 8, \"m\": 3, \n",
      "         \"l\": 1, \"o\": 1, \"n\": 1, \"q\": 10, \"p\": 3, \"s\": 1, \n",
      "         \"r\": 1, \"u\": 1, \"t\": 1, \"w\": 4, \"v\": 4, \"y\": 4, \n",
      "         \"x\": 8, \"z\": 10}\n",
      "\n",
      "def scrabble_score(text):\n",
      "    Score = 0\n",
      "    lst = []\n",
      "    for j in text:\n",
      "        lst.append(j)\n",
      "        for i in score:\n",
      "            if j == i or j.lower() == i:\n",
      "                Score += int(score[i])\n",
      "    return Score\n",
      "\n",
      "word = raw_input(\"Enter a word: \")\n",
      "    \n",
      "print scrabble_score(word)\n",
      "        "
     ],
     "language": "python",
     "metadata": {},
     "outputs": [
      {
       "name": "stdout",
       "output_type": "stream",
       "stream": "stdout",
       "text": [
        "Enter a word: DuNe\n"
       ]
      },
      {
       "output_type": "stream",
       "stream": "stdout",
       "text": [
        "5\n"
       ]
      }
     ],
     "prompt_number": 55
    },
    {
     "cell_type": "markdown",
     "metadata": {},
     "source": [
      "Other method: "
     ]
    },
    {
     "cell_type": "code",
     "collapsed": false,
     "input": [
      "score = {\"a\": 1, \"c\": 3, \"b\": 3, \"e\": 1, \"d\": 2, \"g\": 2, \n",
      "         \"f\": 4, \"i\": 1, \"h\": 4, \"k\": 5, \"j\": 8, \"m\": 3, \n",
      "         \"l\": 1, \"o\": 1, \"n\": 1, \"q\": 10, \"p\": 3, \"s\": 1, \n",
      "         \"r\": 1, \"u\": 1, \"t\": 1, \"w\": 4, \"v\": 4, \"y\": 4, \n",
      "         \"x\": 8, \"z\": 10}\n",
      "\n",
      "def scrabble_score(text):\n",
      "    return sum(score[i] for i in text.lower())\n",
      "\n",
      "word = raw_input(\"Enter your word: \")\n",
      "\n",
      "print scrabble_score(word)"
     ],
     "language": "python",
     "metadata": {},
     "outputs": [
      {
       "name": "stdout",
       "output_type": "stream",
       "stream": "stdout",
       "text": [
        "Enter your word: Tristesse\n"
       ]
      },
      {
       "output_type": "stream",
       "stream": "stdout",
       "text": [
        "9\n"
       ]
      }
     ],
     "prompt_number": 2
    },
    {
     "cell_type": "heading",
     "level": 3,
     "metadata": {},
     "source": [
      "censor"
     ]
    },
    {
     "cell_type": "markdown",
     "metadata": {},
     "source": [
      "Instructions\n",
      "\n",
      "Write a function called censor that takes two strings, text and word, as input. It should return the text with the word you chose replaced with asterisks.\n",
      "\n",
      "For example:\n",
      "\n",
      "censor(\"this hack is wack hack\", \"hack\") \n",
      "should return\n",
      "\n",
      "\"this **** is wack ****\"\n",
      "Assume your input strings won't contain punctuation or upper case letters.\n",
      "The number of asterisks you put should correspond to the number of letters in the censored word."
     ]
    },
    {
     "cell_type": "code",
     "collapsed": false,
     "input": [
      "def censor(text,word):\n",
      "    return text.replace(word, \"*\" * len(word)) \n",
      "\n",
      "print censor (\"hey hey hey\", \"hey\")"
     ],
     "language": "python",
     "metadata": {},
     "outputs": [
      {
       "output_type": "stream",
       "stream": "stdout",
       "text": [
        "*** *** ***\n"
       ]
      }
     ],
     "prompt_number": 1
    },
    {
     "cell_type": "markdown",
     "metadata": {},
     "source": [
      "Other method"
     ]
    },
    {
     "cell_type": "code",
     "collapsed": false,
     "input": [
      "def censor(text,word):\n",
      "    t = text.split()\n",
      "    n = []\n",
      "    for i in t:\n",
      "        if i == word:\n",
      "            n.append(\"*\"*len(word))\n",
      "        else:\n",
      "            n.append(i)\n",
      "    return \" \".join(n)\n",
      "\n",
      "print censor(\"Hey Bastard\", \"Bastard\")"
     ],
     "language": "python",
     "metadata": {},
     "outputs": [
      {
       "output_type": "stream",
       "stream": "stdout",
       "text": [
        "Hey *******\n"
       ]
      }
     ],
     "prompt_number": 3
    },
    {
     "cell_type": "heading",
     "level": 3,
     "metadata": {},
     "source": [
      "Count"
     ]
    },
    {
     "cell_type": "markdown",
     "metadata": {},
     "source": [
      "Great work so far. Let's finish up by practicing with a few functions that take lists as arguments."
     ]
    },
    {
     "cell_type": "heading",
     "level": 4,
     "metadata": {},
     "source": [
      "Instructions"
     ]
    },
    {
     "cell_type": "markdown",
     "metadata": {},
     "source": [
      "\n",
      "Define a function called count that has two arguments called sequence and item.\n",
      "Return the number of times the item occurs in the list.\n",
      "For example: count([1,2,1,1], 1) should return 3 (because 1 appears 3 times in the list).\n",
      "\n",
      "There is a list method in Python that you can use for this, but you should do it the long way for practice.\n",
      "Your function should return an integer.\n",
      "The item you input may be an integer, string, float, or even another list!\n",
      "Be careful not to use list as a variable name in your code\u2014it's a reserved word in Python!"
     ]
    },
    {
     "cell_type": "code",
     "collapsed": false,
     "input": [
      "def count(sequence, item):\n",
      "    sequence = list(sequence)\n",
      "    count = 0\n",
      "    for i in sequence:\n",
      "        if i == item:\n",
      "            count += 1\n",
      "    return count\n",
      "\n",
      "print count([1,2,1,1], 1)"
     ],
     "language": "python",
     "metadata": {},
     "outputs": [
      {
       "output_type": "stream",
       "stream": "stdout",
       "text": [
        "3\n"
       ]
      }
     ],
     "prompt_number": 4
    },
    {
     "cell_type": "heading",
     "level": 3,
     "metadata": {},
     "source": [
      "purify"
     ]
    },
    {
     "cell_type": "markdown",
     "metadata": {},
     "source": [
      "Awesome! Now let's practice filtering a list."
     ]
    },
    {
     "cell_type": "heading",
     "level": 4,
     "metadata": {},
     "source": [
      "Instructions"
     ]
    },
    {
     "cell_type": "markdown",
     "metadata": {},
     "source": [
      "Define a function called purify that takes in a list of numbers, removes all odd numbers in the list, and returns the result.\n",
      "\n",
      "For example, purify([1,2,3]) should return [2].\n",
      "\n",
      "Do not directly modify the list you are given as input; instead, return a new list with only the even numbers."
     ]
    },
    {
     "cell_type": "code",
     "collapsed": false,
     "input": [
      "def purify(lst):\n",
      "    rlst = []\n",
      "    for i in lst:\n",
      "        if i%2 == 0:\n",
      "            rlst.append(i)\n",
      "    return rlst\n",
      "\n",
      "print purify([1,2,3])"
     ],
     "language": "python",
     "metadata": {},
     "outputs": [
      {
       "output_type": "stream",
       "stream": "stdout",
       "text": [
        "[2]\n"
       ]
      }
     ],
     "prompt_number": 6
    },
    {
     "cell_type": "heading",
     "level": 3,
     "metadata": {},
     "source": [
      "product"
     ]
    },
    {
     "cell_type": "markdown",
     "metadata": {},
     "source": [
      "Great! Now let's try a little multiplication."
     ]
    },
    {
     "cell_type": "heading",
     "level": 4,
     "metadata": {},
     "source": [
      "Instructions"
     ]
    },
    {
     "cell_type": "markdown",
     "metadata": {},
     "source": [
      "Define a function called product that takes a list of integers as input and returns the product of all of the elements in the list.\n",
      "\n",
      "For example: product([4, 5, 5]) should return 100 (because 4 * 5 * 5 is 100).\n",
      "\n",
      "Don't worry about the list being empty.\n",
      "Your function should return an integer."
     ]
    },
    {
     "cell_type": "code",
     "collapsed": false,
     "input": [
      "def product(lst):\n",
      "    result = 1\n",
      "    for i in lst:\n",
      "       result *= i\n",
      "    return result\n",
      "\n",
      "print product([4,5,5])"
     ],
     "language": "python",
     "metadata": {},
     "outputs": [
      {
       "output_type": "stream",
       "stream": "stdout",
       "text": [
        "100\n"
       ]
      }
     ],
     "prompt_number": 7
    },
    {
     "cell_type": "heading",
     "level": 3,
     "metadata": {},
     "source": [
      "remove_duplicates"
     ]
    },
    {
     "cell_type": "markdown",
     "metadata": {},
     "source": [
      "Awesome! Now for something a bit trickier."
     ]
    },
    {
     "cell_type": "heading",
     "level": 4,
     "metadata": {},
     "source": [
      "Instructions"
     ]
    },
    {
     "cell_type": "markdown",
     "metadata": {},
     "source": [
      "Write a function remove_duplicates that takes in a list and removes elements of the list that are the same.\n",
      "\n",
      "For example: remove_duplicates([1,1,2,2]) \n",
      "should return [1,2].\n",
      "\n",
      "Don't remove every occurrence, since you need to keep a single occurrence of a number.\n",
      "The order in which you present your output does not matter. So returning [1,2,3] is the same as returning [3,1,2].\n",
      "Do not modify the list you take as input! Instead, return a new list."
     ]
    },
    {
     "cell_type": "code",
     "collapsed": false,
     "input": [
      "def remove_duplicates(lst):\n",
      "    rlst = []\n",
      "    for i in lst:\n",
      "        if i not in rlst:\n",
      "            rlst.append(i)\n",
      "    return rlst\n",
      "\n",
      "lstx = [1,2,3,2,1]\n",
      "\n",
      "print remove_duplicates(lstx)"
     ],
     "language": "python",
     "metadata": {},
     "outputs": [
      {
       "output_type": "stream",
       "stream": "stdout",
       "text": [
        "[1, 2, 3]\n"
       ]
      }
     ],
     "prompt_number": 8
    },
    {
     "cell_type": "heading",
     "level": 3,
     "metadata": {},
     "source": [
      "Median"
     ]
    },
    {
     "cell_type": "markdown",
     "metadata": {},
     "source": [
      "Great work! You've covered a lot in these exercises. Last but not least, let's write a function to find the median of a list.\n",
      "\n",
      "The median is the middle number in a sorted sequence of numbers.\n",
      "\n",
      "Finding the median of [7,12,3,1,6] would first consist of sorting the sequence into [1,3,6,7,12] and then locating the middle value, which would be 6.\n",
      "\n",
      "If you are given a sequence with an even number of elements, you must average the two elements surrounding the middle.\n",
      "\n",
      "For example, the median of the sequence [7,3,1,4] is 3.5, since the middle elements after sorting the list are 3 and 4 and (3 + 4) / (2.0) is 3.5.\n",
      "\n",
      "You can sort the sequence using the sorted() function, like so:\n",
      "\n",
      "sorted([5, 2, 3, 1, 4])\n",
      "[1, 2, 3, 4, 5]"
     ]
    },
    {
     "cell_type": "heading",
     "level": 4,
     "metadata": {},
     "source": [
      "Instructions"
     ]
    },
    {
     "cell_type": "markdown",
     "metadata": {},
     "source": [
      "Write a function called median that takes a list as an input and returns the median value of the list.\n",
      "\n",
      "For example: median([1,1,2]) should return 1.\n",
      "\n",
      "The list can be of any size and the numbers are not guaranteed to be in any particular order.\n",
      "If the list contains an even number of elements, your function should return the average of the middle two."
     ]
    },
    {
     "cell_type": "code",
     "collapsed": false,
     "input": [
      "def median(lst):\n",
      "    lst = sorted(lst)\n",
      "    if len(lst) % 2 == 0:\n",
      "        a= float(lst[len(lst)/2 -1])\n",
      "        b= float(lst[len(lst)/2])\n",
      "        median = (a+b)/2\n",
      "    else:\n",
      "        median = lst[len(lst) / 2]\n",
      "    return median\n",
      "\n",
      "print median([4, 5, 5, 4])"
     ],
     "language": "python",
     "metadata": {},
     "outputs": [
      {
       "output_type": "stream",
       "stream": "stdout",
       "text": [
        "4.5\n"
       ]
      }
     ],
     "prompt_number": 9
    },
    {
     "cell_type": "heading",
     "level": 3,
     "metadata": {},
     "source": [
      "Print those grades"
     ]
    },
    {
     "cell_type": "markdown",
     "metadata": {},
     "source": [
      "As a refresher, let's start off by writing a function to print out the list of grades, one element at a time."
     ]
    },
    {
     "cell_type": "heading",
     "level": 4,
     "metadata": {},
     "source": [
      "Instructions"
     ]
    },
    {
     "cell_type": "markdown",
     "metadata": {},
     "source": [
      "Define a function on line 3 called print_grades() with one argument, a list called grades.\n",
      "Inside the function, iterate through grades and print each item on its own line.\n",
      "After your function, call print_grades() with the grades list as the parameter."
     ]
    },
    {
     "cell_type": "code",
     "collapsed": false,
     "input": [
      "grades = [100, 100, 90, 40, 80, 100, 85, 70, 90, 65, 90, 85, 50.5]\n",
      "\n",
      "def print_grades(lst):\n",
      "    for i in lst:\n",
      "       print i\n",
      "\n",
      "print print_grades(grades)"
     ],
     "language": "python",
     "metadata": {},
     "outputs": [
      {
       "output_type": "stream",
       "stream": "stdout",
       "text": [
        "100\n",
        "100\n",
        "90\n",
        "40\n",
        "80\n",
        "100\n",
        "85\n",
        "70\n",
        "90\n",
        "65\n",
        "90\n",
        "85\n",
        "50.5\n",
        "None\n"
       ]
      }
     ],
     "prompt_number": 1
    },
    {
     "cell_type": "heading",
     "level": 3,
     "metadata": {},
     "source": [
      "The sum of scores"
     ]
    },
    {
     "cell_type": "markdown",
     "metadata": {},
     "source": [
      "Now that we have a function to print the grades, let's create another function to compute the sum of all of the test grades.\n",
      "\n",
      "This will be super-helpful when we need to compute the average score.\n",
      "\n",
      "I know what you're thinking, \"let's just use the built-in sum() function!\" The built-in function would work beautifully, but it would be too easy.\n",
      "\n",
      "Computing the sum manually involves computing a rolling sum. As you loop through the list, add the current grade to a variable that keeps track of the total, let's call that variable total."
     ]
    },
    {
     "cell_type": "heading",
     "level": 4,
     "metadata": {},
     "source": [
      "Instructions"
     ]
    },
    {
     "cell_type": "markdown",
     "metadata": {},
     "source": [
      "On line 3, define a function grades_sum() that does the following:\n",
      "\n",
      "Takes in a list of scores, scores\n",
      "Computes the sum of the scores\n",
      "Returns the computed sum\n",
      "Call the newly created grades_sum() function with the list of grades and print the result."
     ]
    },
    {
     "cell_type": "code",
     "collapsed": false,
     "input": [
      "grades = [100, 100, 90, 40, 80, 100, 85, 70, 90, 65, 90, 85, 50.5]\n",
      "\n",
      "def grades_sum(scores):\n",
      "    total = 0\n",
      "    for i in scores:\n",
      "        total += i\n",
      "    return total \n",
      "\n",
      "print grades_sum(grades)"
     ],
     "language": "python",
     "metadata": {},
     "outputs": [
      {
       "output_type": "stream",
       "stream": "stdout",
       "text": [
        "1045.5\n"
       ]
      }
     ],
     "prompt_number": 2
    },
    {
     "cell_type": "heading",
     "level": 3,
     "metadata": {},
     "source": [
      "Computing the Average"
     ]
    },
    {
     "cell_type": "markdown",
     "metadata": {},
     "source": [
      "The average test grade can be found by dividing the sum of the grades by the total number of grades.\n",
      "\n",
      "Luckily, we just created an awesome function, grades_sum() to compute the sum."
     ]
    },
    {
     "cell_type": "markdown",
     "metadata": {},
     "source": [
      "Instructions"
     ]
    },
    {
     "cell_type": "markdown",
     "metadata": {},
     "source": [
      "Define a function grades_average(), below the grades_sum() function that does the following:\n",
      "\n",
      "Has one argument, grades, a list\n",
      "Calls grades_sum with grades\n",
      "Computes the average of the grades by dividing that sum by float(len(grades)).\n",
      "Returns the average.\n",
      "Call the newly created grades_average() function with the list of grades and print the result."
     ]
    },
    {
     "cell_type": "code",
     "collapsed": false,
     "input": [
      "grades = [100, 100, 90, 40, 80, 100, 85, 70, 90, 65, 90, 85, 50.5]\n",
      "\n",
      "def grades_sum(scores):\n",
      "    total = 0\n",
      "    for i in scores:\n",
      "        total += i\n",
      "    return total \n",
      "\n",
      "def grades_average(grades):\n",
      "    avg = float(grades_sum(grades))/float(len(grades))\n",
      "    return avg\n",
      "\n",
      "print grades_average(grades)"
     ],
     "language": "python",
     "metadata": {},
     "outputs": [
      {
       "output_type": "stream",
       "stream": "stdout",
       "text": [
        "80.4230769231\n"
       ]
      }
     ],
     "prompt_number": 3
    },
    {
     "cell_type": "heading",
     "level": 3,
     "metadata": {},
     "source": [
      "The Variance"
     ]
    },
    {
     "cell_type": "markdown",
     "metadata": {},
     "source": [
      "Let's see how the grades varied against the average. This is called computing the variance.\n",
      "\n",
      "A very large variance means that the students' grades were all over the place, while a small variance (relatively close to the average) means that the majority of students did fairly well."
     ]
    },
    {
     "cell_type": "heading",
     "level": 4,
     "metadata": {},
     "source": [
      "Instructions"
     ]
    },
    {
     "cell_type": "markdown",
     "metadata": {},
     "source": [
      "On line 18, define a new function called grades_variance() that accepts one argument, scores, a list.\n",
      "First, create a variable average and store the result of calling grades_average(scores).\n",
      "Next, create another variable variance and set it to zero. We will use this as a rolling sum.\n",
      "for each score in scores: Compute its squared difference: (average - score) ** 2 and add that to variance.\n",
      "Divide the total variance by the number of scores.\n",
      "Then, return that result.\n",
      "Finally, after your function code, print grades_variance(grades)."
     ]
    },
    {
     "cell_type": "code",
     "collapsed": false,
     "input": [
      "grades = [100, 100, 90, 40, 80, 100, 85, 70, 90, 65, 90, 85, 50.5]\n",
      "\n",
      "def print_grades(grades):\n",
      "    for grade in grades:\n",
      "        print grade\n",
      "\n",
      "def grades_sum(grades):\n",
      "    total = 0\n",
      "    for grade in grades: \n",
      "        total += grade\n",
      "    return total\n",
      "    \n",
      "def grades_average(grades):\n",
      "    sum_of_grades = grades_sum(grades)\n",
      "    average = sum_of_grades / float(len(grades))\n",
      "    return average\n",
      "\n",
      "def grades_variance(scores):\n",
      "    average = grades_average(scores)\n",
      "    variance = 0\n",
      "    for score in scores:\n",
      "        variance += (average - score) ** 2\n",
      "        result = variance / float(len(scores))\n",
      "    return result\n",
      "\n",
      "print grades_variance(grades)"
     ],
     "language": "python",
     "metadata": {},
     "outputs": [
      {
       "output_type": "stream",
       "stream": "stdout",
       "text": [
        "334.071005917\n"
       ]
      }
     ],
     "prompt_number": 4
    },
    {
     "cell_type": "heading",
     "level": 3,
     "metadata": {},
     "source": [
      "Standard Deviation"
     ]
    },
    {
     "cell_type": "markdown",
     "metadata": {},
     "source": [
      "Great job computing the variance! The last statistic will be much simpler: standard deviation.\n",
      "\n",
      "The standard deviation is the square root of the variance. You can calculate the square root by raising the number to the one-half power."
     ]
    },
    {
     "cell_type": "heading",
     "level": 4,
     "metadata": {},
     "source": [
      "Instructions"
     ]
    },
    {
     "cell_type": "markdown",
     "metadata": {},
     "source": [
      "Define a function grades_std_deviation(variance).\n",
      "return the result of variance ** 0.5\n",
      "After the function, create a new variable called variance and store the result of calling grades_variance(grades).\n",
      "Finally print the result of calling grades_std_deviation(variance)."
     ]
    },
    {
     "cell_type": "code",
     "collapsed": false,
     "input": [
      "grades = [100, 100, 90, 40, 80, 100, 85, 70, 90, 65, 90, 85, 50.5]\n",
      "\n",
      "def print_grades(grades):\n",
      "    for grade in grades:\n",
      "        print grade\n",
      "\n",
      "def grades_sum(grades):\n",
      "    total = 0\n",
      "    for grade in grades: \n",
      "        total += grade\n",
      "    return total\n",
      "    \n",
      "def grades_average(grades):\n",
      "    sum_of_grades = grades_sum(grades)\n",
      "    average = sum_of_grades / float(len(grades))\n",
      "    return average\n",
      "\n",
      "def grades_variance(scores):\n",
      "    average = grades_average(scores)\n",
      "    variance = 0\n",
      "    for score in scores:\n",
      "        variance += (average - score) ** 2\n",
      "        result = variance / float(len(scores))\n",
      "    return result\n",
      "    \n",
      "def grades_std_deviation(variance):\n",
      "    return variance ** 0.5\n",
      "    \n",
      "variance = grades_variance(grades)\n",
      "\n",
      "print grades_std_deviation(variance)"
     ],
     "language": "python",
     "metadata": {},
     "outputs": [
      {
       "output_type": "stream",
       "stream": "stdout",
       "text": [
        "18.2776094147\n"
       ]
      }
     ],
     "prompt_number": 5
    },
    {
     "cell_type": "heading",
     "level": 3,
     "metadata": {},
     "source": [
      "Iterators for Dictionaries"
     ]
    },
    {
     "cell_type": "markdown",
     "metadata": {},
     "source": [
      "Let's start with iterating over a dictionary. Recall that a dictionary is just a collection of keys and values."
     ]
    },
    {
     "cell_type": "code",
     "collapsed": false,
     "input": [
      "d = {\n",
      "    \"Name\": \"Guido\",\n",
      "    \"Age\": 56,\n",
      "    \"BDFL\": True\n",
      "}\n",
      "print d.items()\n",
      "# => [('BDFL', True), ('Age', 56), ('Name',"
     ],
     "language": "python",
     "metadata": {},
     "outputs": [
      {
       "output_type": "stream",
       "stream": "stdout",
       "text": [
        "[('BDFL', True), ('Age', 56), ('Name', 'Guido')]\n"
       ]
      }
     ],
     "prompt_number": 6
    },
    {
     "cell_type": "markdown",
     "metadata": {},
     "source": [
      "Note that the items() function doesn't return key/value pairs in any specific order. (For more on this, see the Hint.)"
     ]
    },
    {
     "cell_type": "heading",
     "level": 4,
     "metadata": {},
     "source": [
      "Instructions"
     ]
    },
    {
     "cell_type": "markdown",
     "metadata": {},
     "source": [
      "Create your own Python dictionary, my_dict, in the editor to the right with two or three key/value pairs.\n",
      "Then, print the result of calling the my_dict.items()."
     ]
    },
    {
     "cell_type": "code",
     "collapsed": false,
     "input": [
      "my_dict = {\n",
      "    \"Sku\": \"Persona 3\",\n",
      "    \"Rating\": \"M\",\n",
      "    \"Release Date\": \"2007\"\n",
      "    }\n",
      "\n",
      "print my_dict.items()"
     ],
     "language": "python",
     "metadata": {},
     "outputs": [
      {
       "output_type": "stream",
       "stream": "stdout",
       "text": [
        "[('Sku', 'Persona 3'), ('Rating', 'M'), ('Release Date', '2007')]\n"
       ]
      }
     ],
     "prompt_number": 7
    },
    {
     "cell_type": "heading",
     "level": 3,
     "metadata": {},
     "source": [
      "keys() and values()"
     ]
    },
    {
     "cell_type": "markdown",
     "metadata": {},
     "source": [
      "Whereas items() returns an array of tuples with each tuple consisting of a key/value pair from the dictionary:\n",
      "\n",
      "The keys() function returns an array of the dictionary's keys, and\n",
      "The values() function returns an array of the dictionary's values.\n",
      "Again, these functions will not return the keys or values from the dictionary in any specific order.\n",
      "\n",
      "You can think of a tuple as an immutable (that is, unchangeable) list (though this is an oversimplification); tuples are surrounded by ()s and can contain any data type."
     ]
    },
    {
     "cell_type": "heading",
     "level": 4,
     "metadata": {},
     "source": [
      "Instructions"
     ]
    },
    {
     "cell_type": "markdown",
     "metadata": {},
     "source": [
      "Remove your call to items() and replace it with a call to keys() and a call to values(), each on its own line. Make sure to print both!"
     ]
    },
    {
     "cell_type": "code",
     "collapsed": false,
     "input": [
      "my_dict = {\n",
      "    \"Sku\": \"Persona 3\",\n",
      "    \"Rating\": \"M\",\n",
      "    \"Release Date\": \"2007\"\n",
      "    }\n",
      "\n",
      "print my_dict.keys()\n",
      "print my_dict.values()"
     ],
     "language": "python",
     "metadata": {},
     "outputs": [
      {
       "output_type": "stream",
       "stream": "stdout",
       "text": [
        "['Sku', 'Rating', 'Release Date']\n",
        "['Persona 3', 'M', '2007']\n"
       ]
      }
     ],
     "prompt_number": 8
    },
    {
     "cell_type": "heading",
     "level": 3,
     "metadata": {},
     "source": [
      "The 'in' Operator"
     ]
    },
    {
     "cell_type": "markdown",
     "metadata": {},
     "source": [
      "For iterating over lists, tuples, dictionaries, and strings, Python also includes a special keyword: in. You can use in very intuitively, like so:"
     ]
    },
    {
     "cell_type": "code",
     "collapsed": false,
     "input": [
      "for number in range(5):\n",
      "    print number,\n",
      "\n",
      "d = { \"name\": \"Eric\", \"age\": 26 }\n",
      "for key in d:\n",
      "    print key, d[key],\n",
      "\n",
      "for letter in \"Eric\":\n",
      "    print letter,  # note the comma!"
     ],
     "language": "python",
     "metadata": {},
     "outputs": [
      {
       "output_type": "stream",
       "stream": "stdout",
       "text": [
        "0 1 2 3 4 age 26 name Eric E r i c\n"
       ]
      }
     ],
     "prompt_number": 9
    },
    {
     "cell_type": "markdown",
     "metadata": {},
     "source": [
      "In the example above, first we create and iterate through a range, printing out 0 1 2 3 4. Note that the trailing comma ensures that we keep printing on the same line.\n",
      "Next, we create a dictionary and iterate through, printing out age 26 name Eric. Dictionaries have no specific order.\n",
      "Finally, we iterate through the letters of a string, printing out E r i c."
     ]
    },
    {
     "cell_type": "heading",
     "level": 4,
     "metadata": {},
     "source": [
      "Instructions"
     ]
    },
    {
     "cell_type": "markdown",
     "metadata": {},
     "source": [
      "For each key in my_dict: print out the key , then a space, then the value stored by that key.\n",
      "\n",
      "(You should use print a, b rather than print a + \" \" + b.)"
     ]
    },
    {
     "cell_type": "code",
     "collapsed": false,
     "input": [
      "my_dict = {\n",
      "    \"Sku\": \"Persona 3\",\n",
      "    \"Rating\": \"M\",\n",
      "    \"Release Date\": \"2007\"\n",
      "    }\n",
      "\n",
      "for key in my_dict:\n",
      "    print key, my_dict[key], # On the same line\n",
      "    \n",
      "for key in my_dict:\n",
      "    print key, my_dict[key]"
     ],
     "language": "python",
     "metadata": {},
     "outputs": [
      {
       "output_type": "stream",
       "stream": "stdout",
       "text": [
        "Sku Persona 3 Rating M Release Date 2007 Sku Persona 3\n",
        "Rating M\n",
        "Release Date 2007\n"
       ]
      }
     ],
     "prompt_number": 14
    },
    {
     "cell_type": "heading",
     "level": 3,
     "metadata": {},
     "source": [
      "Building Lists"
     ]
    },
    {
     "cell_type": "markdown",
     "metadata": {},
     "source": [
      "Let's say you wanted to build a list of the numbers from 0 to 50 (inclusive). We could do this pretty easily:"
     ]
    },
    {
     "cell_type": "code",
     "collapsed": false,
     "input": [
      "my_list = range(51)\n",
      "\n",
      "print my_list"
     ],
     "language": "python",
     "metadata": {},
     "outputs": [
      {
       "output_type": "stream",
       "stream": "stdout",
       "text": [
        "[0, 1, 2, 3, 4, 5, 6, 7, 8, 9, 10, 11, 12, 13, 14, 15, 16, 17, 18, 19, 20, 21, 22, 23, 24, 25, 26, 27, 28, 29, 30, 31, 32, 33, 34, 35, 36, 37, 38, 39, 40, 41, 42, 43, 44, 45, 46, 47, 48, 49, 50]\n"
       ]
      }
     ],
     "prompt_number": 17
    },
    {
     "cell_type": "markdown",
     "metadata": {},
     "source": [
      "But what if we wanted to generate a list according to some logic\u2014for example, a list of all the even numbers from 0 to 50?\n",
      "\n",
      "Python's answer to this is the list comprehension. List comprehensions are a powerful way to generate lists using the for/in and if keywords we've learned."
     ]
    },
    {
     "cell_type": "code",
     "collapsed": false,
     "input": [
      "evens_to_50 = [i for i in range(51) if i % 2 == 0]\n",
      "print evens_to_50"
     ],
     "language": "python",
     "metadata": {},
     "outputs": [
      {
       "output_type": "stream",
       "stream": "stdout",
       "text": [
        "[0, 2, 4, 6, 8, 10, 12, 14, 16, 18, 20, 22, 24, 26, 28, 30, 32, 34, 36, 38, 40, 42, 44, 46, 48, 50]\n"
       ]
      }
     ],
     "prompt_number": 18
    },
    {
     "cell_type": "heading",
     "level": 3,
     "metadata": {},
     "source": [
      "List Comprehension Syntax"
     ]
    },
    {
     "cell_type": "markdown",
     "metadata": {},
     "source": [
      "Here's a simple example of list comprehension syntax:"
     ]
    },
    {
     "cell_type": "code",
     "collapsed": false,
     "input": [
      "new_list = [x for x in range(1,6)]\n",
      "print new_list"
     ],
     "language": "python",
     "metadata": {},
     "outputs": [
      {
       "output_type": "stream",
       "stream": "stdout",
       "text": [
        "[1, 2, 3, 4, 5]\n"
       ]
      }
     ],
     "prompt_number": 20
    },
    {
     "cell_type": "markdown",
     "metadata": {},
     "source": [
      "This will create a new_list populated by the numbers one to five. If you want those numbers doubled, you could use:"
     ]
    },
    {
     "cell_type": "code",
     "collapsed": false,
     "input": [
      "doubles = [x*2 for x in range(1,6)]\n",
      "print doubles"
     ],
     "language": "python",
     "metadata": {},
     "outputs": [
      {
       "output_type": "stream",
       "stream": "stdout",
       "text": [
        "[2, 4, 6, 8, 10]\n"
       ]
      }
     ],
     "prompt_number": 21
    },
    {
     "cell_type": "markdown",
     "metadata": {},
     "source": [
      "And if you only wanted the doubled numbers that are evenly divisible by three:"
     ]
    },
    {
     "cell_type": "code",
     "collapsed": false,
     "input": [
      "doubles_by_3 = [x*2 for x in range(1,6) if (x*2)%3 == 0]\n",
      "print doubles_by_3"
     ],
     "language": "python",
     "metadata": {},
     "outputs": [
      {
       "output_type": "stream",
       "stream": "stdout",
       "text": [
        "[6]\n"
       ]
      }
     ],
     "prompt_number": 22
    },
    {
     "cell_type": "heading",
     "level": 4,
     "metadata": {},
     "source": [
      "Instructions"
     ]
    },
    {
     "cell_type": "markdown",
     "metadata": {},
     "source": [
      "Use a list comprehension to build a list called even_squares in the editor.\n",
      "Your even_squares list should include the squares of the even numbers between 1 to 11. Your list should start [4, 16, 36...] and go from there.\n",
      "?\n",
      "Stuck? Get a hint!"
     ]
    },
    {
     "cell_type": "code",
     "collapsed": false,
     "input": [
      "doubles_by_3 = [x*2 for x in range(1,6) if (x*2) % 3 == 0]\n",
      "\n",
      "# Complete the following line. Use the line above for help.\n",
      "even_squares = [x**2 for x in range(1,11) if x**2 % 2 == 0]\n",
      "\n",
      "print even_squares"
     ],
     "language": "python",
     "metadata": {},
     "outputs": [
      {
       "output_type": "stream",
       "stream": "stdout",
       "text": [
        "[4, 16, 36, 64, 100]\n"
       ]
      }
     ],
     "prompt_number": 23
    },
    {
     "cell_type": "heading",
     "level": 3,
     "metadata": {},
     "source": [
      "Now You Try!"
     ]
    },
    {
     "cell_type": "markdown",
     "metadata": {},
     "source": [
      "Great work! Now it's time for you to create a list comprehension all on your own."
     ]
    },
    {
     "cell_type": "code",
     "collapsed": false,
     "input": [
      "c = ['C' for x in range(5) if x < 3]\n",
      "print c"
     ],
     "language": "python",
     "metadata": {},
     "outputs": [
      {
       "output_type": "stream",
       "stream": "stdout",
       "text": [
        "['C', 'C', 'C']\n"
       ]
      }
     ],
     "prompt_number": 24
    },
    {
     "cell_type": "markdown",
     "metadata": {},
     "source": [
      "The example above creates and prints out a list containing ['C', 'C', 'C']."
     ]
    },
    {
     "cell_type": "heading",
     "level": 4,
     "metadata": {},
     "source": [
      "Instructions"
     ]
    },
    {
     "cell_type": "markdown",
     "metadata": {},
     "source": [
      "Use a list comprehension to create a list, cubes_by_four.\n",
      "The comprehension should consist of the cubes of the numbers 1 through 10 only if the cube is evenly divisible by four.\n",
      "Finally, print that list to the console.\n",
      "Note that in this case, the cubed number should be evenly divisible by 4, not the original number"
     ]
    },
    {
     "cell_type": "code",
     "collapsed": false,
     "input": [
      "cubes_by_four = [i**3 for i in range(1,11) if i**3 % 4 == 0]\n",
      "\n",
      "print cubes_by_four"
     ],
     "language": "python",
     "metadata": {},
     "outputs": [
      {
       "output_type": "stream",
       "stream": "stdout",
       "text": [
        "[8, 64, 216, 512, 1000]\n"
       ]
      }
     ],
     "prompt_number": 26
    },
    {
     "cell_type": "heading",
     "level": 3,
     "metadata": {},
     "source": [
      "List Slicing Syntax"
     ]
    },
    {
     "cell_type": "markdown",
     "metadata": {},
     "source": [
      "Sometimes we only want part of a Python list. Maybe we only want the first few elements; maybe we only want the last few. Maybe we want every other element!\n",
      "\n",
      "List slicing allows us to access elements of a list in a concise manner. The syntax looks like this:\n",
      "\n",
      "[start:end:stride]\n",
      "\n",
      "Where start describes where the slice starts (inclusive), end is where it ends (exclusive), and stride describes the space between items in the sliced list. For example, a stride of 2 would select every other item from the original list to place in the sliced list."
     ]
    },
    {
     "cell_type": "heading",
     "level": 4,
     "metadata": {},
     "source": [
      "instructions"
     ]
    },
    {
     "cell_type": "markdown",
     "metadata": {},
     "source": [
      "We've generated a list with a list comprehension in the editor to the right, and we're about to print a selection from the list using list slicing. Can you guess what will be printed out? Click Save & Submit Code when you think you know!"
     ]
    },
    {
     "cell_type": "code",
     "collapsed": false,
     "input": [
      "l = [i ** 2 for i in range(1, 11)]\n",
      "# Should be [1, 4, 9, 16, 25, 36, 49, 64, 81, 100]\n",
      "\n",
      "print l[2:9:2]"
     ],
     "language": "python",
     "metadata": {},
     "outputs": [
      {
       "output_type": "stream",
       "stream": "stdout",
       "text": [
        "[9, 25, 49, 81]\n"
       ]
      }
     ],
     "prompt_number": 27
    },
    {
     "cell_type": "heading",
     "level": 3,
     "metadata": {},
     "source": [
      "Omitting Indices"
     ]
    },
    {
     "cell_type": "markdown",
     "metadata": {},
     "source": [
      "If you don't pass a particular index to the list slice, Python will pick a default."
     ]
    },
    {
     "cell_type": "code",
     "collapsed": false,
     "input": [
      "to_five = ['A', 'B', 'C', 'D', 'E']\n",
      "\n",
      "print to_five[3:]\n",
      "# prints ['D', 'E'] \n",
      "\n",
      "print to_five[:2]\n",
      "# prints ['A', 'B']\n",
      "\n",
      "print to_five[::2]\n",
      "# print ['A', 'C', 'E']"
     ],
     "language": "python",
     "metadata": {},
     "outputs": [
      {
       "output_type": "stream",
       "stream": "stdout",
       "text": [
        "['D', 'E']\n",
        "['A', 'B']\n",
        "['A', 'C', 'E']\n"
       ]
      }
     ],
     "prompt_number": 28
    },
    {
     "cell_type": "markdown",
     "metadata": {},
     "source": [
      "The default starting index is 0.\n",
      "The default ending index is the end of the list.\n",
      "The default stride is 1."
     ]
    },
    {
     "cell_type": "heading",
     "level": 4,
     "metadata": {},
     "source": [
      "Instructions"
     ]
    },
    {
     "cell_type": "markdown",
     "metadata": {},
     "source": [
      "Use list slicing to print out every odd element of my_list from start to finish.\n",
      "Omit the start and end index. You only need to specify a stride.\n",
      "Check the Hint if you need help."
     ]
    },
    {
     "cell_type": "code",
     "collapsed": false,
     "input": [
      "my_list = range(1, 11) # List of numbers 1 - 10\n",
      "\n",
      "# Add your code below!\n",
      "\n",
      "print my_list[::2]"
     ],
     "language": "python",
     "metadata": {},
     "outputs": [
      {
       "output_type": "stream",
       "stream": "stdout",
       "text": [
        "[1, 3, 5, 7, 9]\n"
       ]
      }
     ],
     "prompt_number": 29
    },
    {
     "cell_type": "heading",
     "level": 3,
     "metadata": {},
     "source": [
      "Reversing a List"
     ]
    },
    {
     "cell_type": "markdown",
     "metadata": {},
     "source": [
      "We have seen that a positive stride progresses through the list from left to right.\n",
      "\n",
      "A negative stride progresses through the list from right to left."
     ]
    },
    {
     "cell_type": "code",
     "collapsed": false,
     "input": [
      "letters = ['A', 'B', 'C', 'D', 'E']\n",
      "print letters[::-1]"
     ],
     "language": "python",
     "metadata": {},
     "outputs": [
      {
       "output_type": "stream",
       "stream": "stdout",
       "text": [
        "['E', 'D', 'C', 'B', 'A']\n"
       ]
      }
     ],
     "prompt_number": 30
    },
    {
     "cell_type": "markdown",
     "metadata": {},
     "source": [
      "In the example above, we print out ['E', 'D', 'C', 'B', 'A']."
     ]
    },
    {
     "cell_type": "heading",
     "level": 4,
     "metadata": {},
     "source": [
      "Instructions"
     ]
    },
    {
     "cell_type": "markdown",
     "metadata": {},
     "source": [
      "Create a variable called backwards and set it equal to the reversed version of my_list.\n",
      "Make sure to reverse the list in the editor by passing your list slice a negative stride, like in the example above."
     ]
    },
    {
     "cell_type": "code",
     "collapsed": false,
     "input": [
      "my_list = range(1, 11)\n",
      "\n",
      "# Add your code below!\n",
      "\n",
      "backwards = my_list[::-1]\n",
      " \n",
      "print backwards"
     ],
     "language": "python",
     "metadata": {},
     "outputs": [
      {
       "output_type": "stream",
       "stream": "stdout",
       "text": [
        "[10, 9, 8, 7, 6, 5, 4, 3, 2, 1]\n"
       ]
      }
     ],
     "prompt_number": 31
    },
    {
     "cell_type": "heading",
     "level": 3,
     "metadata": {},
     "source": [
      "Stride Length"
     ]
    },
    {
     "cell_type": "markdown",
     "metadata": {},
     "source": [
      "A positive stride length traverses the list from left to right, and a negative one traverses the list from right to left.\n",
      "\n",
      "Further, a stride length of 1 traverses the list \"by ones,\" a stride length of 2 traverses the list \"by twos,\" and so on."
     ]
    },
    {
     "cell_type": "heading",
     "level": 4,
     "metadata": {},
     "source": [
      "Instructions"
     ]
    },
    {
     "cell_type": "markdown",
     "metadata": {},
     "source": [
      "Create a variable, backwards_by_tens, and set it equal to the result of going backwards through to_one_hundred by tens. Go ahead and print backwards_by_tens to the console."
     ]
    },
    {
     "cell_type": "code",
     "collapsed": false,
     "input": [
      "to_one_hundred = range(101)\n",
      "# Add your code below!\n",
      "\n",
      "backwards_by_tens = to_one_hundred[::-10]\n",
      "print backwards_by_tens"
     ],
     "language": "python",
     "metadata": {},
     "outputs": [
      {
       "output_type": "stream",
       "stream": "stdout",
       "text": [
        "[100, 90, 80, 70, 60, 50, 40, 30, 20, 10, 0]\n"
       ]
      }
     ],
     "prompt_number": 32
    },
    {
     "cell_type": "heading",
     "level": 3,
     "metadata": {},
     "source": [
      "Practice Makes Perfect"
     ]
    },
    {
     "cell_type": "markdown",
     "metadata": {},
     "source": [
      "Great work! See? This list slicing business is pretty straightforward.\n",
      "\n",
      "Let's do one more, just to prove you really know your stuff."
     ]
    },
    {
     "cell_type": "heading",
     "level": 4,
     "metadata": {},
     "source": [
      "Instructions"
     ]
    },
    {
     "cell_type": "markdown",
     "metadata": {},
     "source": [
      "Create a list, to_21, that's just the numbers from 1 to 21, inclusive.\n",
      "Create a second list, odds, that contains only the odd numbers in the to_21 list (1, 3, 5, and so on). Use list slicing for this one instead of a list comprehension.\n",
      "Finally, create a third list, middle_third, that's equal to the middle third of to_21, from 8 to 14, inclusive."
     ]
    },
    {
     "cell_type": "code",
     "collapsed": false,
     "input": [
      "to_21 = range(1,22)\n",
      "\n",
      "odds = to_21[::2]\n",
      "\n",
      "print odds\n",
      "\n",
      "middle_third = to_21[7:14]\n",
      "\n",
      "print middle_third"
     ],
     "language": "python",
     "metadata": {},
     "outputs": [
      {
       "output_type": "stream",
       "stream": "stdout",
       "text": [
        "[1, 3, 5, 7, 9, 11, 13, 15, 17, 19, 21]\n",
        "[8, 9, 10, 11, 12, 13, 14]\n"
       ]
      }
     ],
     "prompt_number": 33
    },
    {
     "cell_type": "heading",
     "level": 3,
     "metadata": {},
     "source": [
      "Anonymous Functions"
     ]
    },
    {
     "cell_type": "markdown",
     "metadata": {},
     "source": [
      "One of the more powerful aspects of Python is that it allows for a style of programming called functional programming, which means that you're allowed to pass functions around just as if they were variables or values. Sometimes we take this for granted, but not all languages allow this!\n",
      "\n",
      "Check out the code at the right. See the lambda bit? Typing"
     ]
    },
    {
     "cell_type": "code",
     "collapsed": false,
     "input": [
      "lambda x: x % 3 == 0"
     ],
     "language": "python",
     "metadata": {},
     "outputs": [
      {
       "metadata": {},
       "output_type": "pyout",
       "prompt_number": 34,
       "text": [
        "<function __main__.<lambda>>"
       ]
      }
     ],
     "prompt_number": 34
    },
    {
     "cell_type": "markdown",
     "metadata": {},
     "source": [
      "Is the same as"
     ]
    },
    {
     "cell_type": "code",
     "collapsed": false,
     "input": [
      "def by_three(x):\n",
      "    return x % 3 == 0"
     ],
     "language": "python",
     "metadata": {},
     "outputs": [],
     "prompt_number": 35
    },
    {
     "cell_type": "markdown",
     "metadata": {},
     "source": [
      "Only we don't need to actually give the function a name; it does its work and returns a value without one. That's why the function the lambda creates is an anonymous function.\n",
      "\n",
      "When we pass the lambda to filter, filter uses the lambda to determine what to filter, and the second argument (my_list, which is just the numbers 0 \u2013 15) is the list it does the filtering on.\n",
      "\n",
      "Instru"
     ]
    },
    {
     "cell_type": "heading",
     "level": 4,
     "metadata": {},
     "source": [
      "Instructions"
     ]
    },
    {
     "cell_type": "markdown",
     "metadata": {},
     "source": [
      "Can you guess what the this code will print to the console? Click Save & Submit Code to see."
     ]
    },
    {
     "cell_type": "code",
     "collapsed": false,
     "input": [
      "my_list = range(16)\n",
      "print filter(lambda x: x % 3 == 0, my_list)"
     ],
     "language": "python",
     "metadata": {},
     "outputs": [
      {
       "output_type": "stream",
       "stream": "stdout",
       "text": [
        "[0, 3, 6, 9, 12, 15]\n"
       ]
      }
     ],
     "prompt_number": 36
    },
    {
     "cell_type": "heading",
     "level": 3,
     "metadata": {},
     "source": [
      "Lambda Syntax"
     ]
    },
    {
     "cell_type": "markdown",
     "metadata": {},
     "source": [
      "Lambda functions are defined using the following syntax:"
     ]
    },
    {
     "cell_type": "code",
     "collapsed": false,
     "input": [
      "my_list = range(16)\n",
      "filter(lambda x: x % 3 == 0, my_list)"
     ],
     "language": "python",
     "metadata": {},
     "outputs": [
      {
       "metadata": {},
       "output_type": "pyout",
       "prompt_number": 37,
       "text": [
        "[0, 3, 6, 9, 12, 15]"
       ]
      }
     ],
     "prompt_number": 37
    },
    {
     "cell_type": "markdown",
     "metadata": {},
     "source": [
      "Lambdas are useful when you need a quick function to do some work for you.\n",
      "\n",
      "If you plan on creating a function you'll use over and over, you're better off using def and giving that function a name."
     ]
    },
    {
     "cell_type": "heading",
     "level": 4,
     "metadata": {},
     "source": [
      "Instructions"
     ]
    },
    {
     "cell_type": "markdown",
     "metadata": {},
     "source": [
      "Fill in the first part of the filter function with a lambda. The lambda should ensure that only \"Python\" is returned by the filter.\n",
      "Fill in the second part of the filter function with languages, the list to filter."
     ]
    },
    {
     "cell_type": "code",
     "collapsed": false,
     "input": [
      "languages = [\"HTML\", \"JavaScript\", \"Python\", \"Ruby\"]\n",
      "print filter(lambda x: x == \"Python\", languages)"
     ],
     "language": "python",
     "metadata": {},
     "outputs": [
      {
       "output_type": "stream",
       "stream": "stdout",
       "text": [
        "['Python']\n"
       ]
      }
     ],
     "prompt_number": 38
    },
    {
     "cell_type": "heading",
     "level": 3,
     "metadata": {},
     "source": [
      "Try It!"
     ]
    },
    {
     "cell_type": "markdown",
     "metadata": {},
     "source": [
      "All right! Time to test out filter() and lambda expressions.\n"
     ]
    },
    {
     "cell_type": "code",
     "collapsed": false,
     "input": [
      "cubes = [x**3 for x in range(1, 11)]\n",
      "filter(lambda x: x % 3 == 0, cubes)"
     ],
     "language": "python",
     "metadata": {},
     "outputs": [
      {
       "metadata": {},
       "output_type": "pyout",
       "prompt_number": 40,
       "text": [
        "[27, 216, 729]"
       ]
      }
     ],
     "prompt_number": 40
    },
    {
     "cell_type": "markdown",
     "metadata": {},
     "source": [
      "The example above is just a reminder of the syntax."
     ]
    },
    {
     "cell_type": "heading",
     "level": 4,
     "metadata": {},
     "source": [
      "Instructions "
     ]
    },
    {
     "cell_type": "markdown",
     "metadata": {},
     "source": [
      "Create a list, squares, that consists of the squares of the numbers 1 to 10. A list comprehension could be useful here!\n",
      "Use filter() and a lambda expression to print out only the squares that are between 30 and 70 (inclusive)."
     ]
    },
    {
     "cell_type": "code",
     "collapsed": false,
     "input": [
      "squares = [x**2 for x in range(1, 11)]\n",
      "print filter(lambda x: x in range(30,71), squares)"
     ],
     "language": "python",
     "metadata": {},
     "outputs": [
      {
       "output_type": "stream",
       "stream": "stdout",
       "text": [
        "[36, 49, 64]\n"
       ]
      }
     ],
     "prompt_number": 41
    },
    {
     "cell_type": "heading",
     "level": 3,
     "metadata": {},
     "source": [
      "Iterating Over Dictionnaries"
     ]
    },
    {
     "cell_type": "markdown",
     "metadata": {},
     "source": [
      "First, let's review iterating over a dict."
     ]
    },
    {
     "cell_type": "heading",
     "level": 4,
     "metadata": {},
     "source": [
      "Instructions"
     ]
    },
    {
     "cell_type": "markdown",
     "metadata": {},
     "source": [
      "Call the appropriate method on movies such that it will print out all the items (hint, hint) in the dictionary\u2014that is, each key and each value."
     ]
    },
    {
     "cell_type": "code",
     "collapsed": false,
     "input": [
      "movies = {\n",
      "\t\"Monty Python and the Holy Grail\": \"Great\",\n",
      "\t\"Monty Python's Life of Brian\": \"Good\",\n",
      "\t\"Monty Python's Meaning of Life\": \"Okay\"\n",
      "}\n",
      "\n",
      "print movies.items()"
     ],
     "language": "python",
     "metadata": {},
     "outputs": [
      {
       "output_type": "stream",
       "stream": "stdout",
       "text": [
        "[(\"Monty Python's Life of Brian\", 'Good'), (\"Monty Python's Meaning of Life\", 'Okay'), ('Monty Python and the Holy Grail', 'Great')]\n"
       ]
      }
     ],
     "prompt_number": 42
    },
    {
     "cell_type": "heading",
     "level": 3,
     "metadata": {},
     "source": [
      "Comprehending Comprehensions"
     ]
    },
    {
     "cell_type": "markdown",
     "metadata": {},
     "source": [
      "Good! Now let's take another look at list comprehensions."
     ]
    },
    {
     "cell_type": "code",
     "collapsed": false,
     "input": [
      "squares = [x**2 for x in range(5)]"
     ],
     "language": "python",
     "metadata": {},
     "outputs": [],
     "prompt_number": 43
    },
    {
     "cell_type": "heading",
     "level": 4,
     "metadata": {},
     "source": [
      "Instructions"
     ]
    },
    {
     "cell_type": "markdown",
     "metadata": {},
     "source": [
      "Use a list comprehension to create a list, threes_and_fives, that consists only of the numbers between 1 and 15 (inclusive) that are evenly divisible by 3 or 5."
     ]
    },
    {
     "cell_type": "code",
     "collapsed": false,
     "input": [
      "threes_and_fives = [x for x in range(1,16) if x%3 == 0 or x%5 ==0]"
     ],
     "language": "python",
     "metadata": {},
     "outputs": [],
     "prompt_number": 44
    },
    {
     "cell_type": "heading",
     "level": 3,
     "metadata": {},
     "source": [
      "List Slicing"
     ]
    },
    {
     "cell_type": "markdown",
     "metadata": {},
     "source": [
      "Great! Next up: list slicing."
     ]
    },
    {
     "cell_type": "code",
     "collapsed": false,
     "input": [
      "str = \"ABCDEFGHIJ\"\n",
      "start, end, stride = 1, 6, 2\n",
      "str[start:end:stride]"
     ],
     "language": "python",
     "metadata": {},
     "outputs": [
      {
       "metadata": {},
       "output_type": "pyout",
       "prompt_number": 45,
       "text": [
        "'BDF'"
       ]
      }
     ],
     "prompt_number": 45
    },
    {
     "cell_type": "markdown",
     "metadata": {},
     "source": [
      "You can think of a Python string as a list of characters."
     ]
    },
    {
     "cell_type": "heading",
     "level": 4,
     "metadata": {},
     "source": [
      "Instructions"
     ]
    },
    {
     "cell_type": "markdown",
     "metadata": {},
     "source": [
      "The string in the editor is garbled in two ways:\n",
      "\n",
      "First, our message is backwards;\n",
      "Second, the letter we want is every other letter.\n",
      "Use list slicing to extract the message and save it to a variable called message."
     ]
    },
    {
     "cell_type": "code",
     "collapsed": false,
     "input": [
      "garbled = \"!XeXgXaXsXsXeXmX XtXeXrXcXeXsX XeXhXtX XmXaX XI\"\n",
      "\n",
      "garbled = garbled[::-1]\n",
      "\n",
      "garbled = [x for x in garbled if x != \"X\"]\n",
      "\n",
      "message = \"\".join(garbled)\n",
      "\n",
      "print message"
     ],
     "language": "python",
     "metadata": {},
     "outputs": [
      {
       "output_type": "stream",
       "stream": "stdout",
       "text": [
        "I am the secret message!\n"
       ]
      }
     ],
     "prompt_number": 48
    },
    {
     "cell_type": "heading",
     "level": 3,
     "metadata": {},
     "source": [
      "Lambda Expressions"
     ]
    },
    {
     "cell_type": "markdown",
     "metadata": {},
     "source": [
      "Last but not least, let's look over some lambdas."
     ]
    },
    {
     "cell_type": "code",
     "collapsed": false,
     "input": [
      "my_list = range(16)\n",
      "filter(lambda x: x % 3 == 0, my_list)"
     ],
     "language": "python",
     "metadata": {},
     "outputs": [
      {
       "metadata": {},
       "output_type": "pyout",
       "prompt_number": 49,
       "text": [
        "[0, 3, 6, 9, 12, 15]"
       ]
      }
     ],
     "prompt_number": 49
    },
    {
     "cell_type": "markdown",
     "metadata": {},
     "source": [
      "We've given you another (slightly different) garbled. Sort it out with a filter() and a lambda."
     ]
    },
    {
     "cell_type": "heading",
     "level": 4,
     "metadata": {},
     "source": [
      "Instructions"
     ]
    },
    {
     "cell_type": "markdown",
     "metadata": {},
     "source": [
      "Create a new variable called message.\n",
      "Set it to the result of calling filter() with the appropriate lambda that will filter out the \"X\"s. The second argument will be garbled.\n",
      "Finally, print your message to the console."
     ]
    },
    {
     "cell_type": "code",
     "collapsed": false,
     "input": [
      "garbled = \"IXXX aXXmX aXXXnXoXXXXXtXhXeXXXXrX sXXXXeXcXXXrXeXt mXXeXsXXXsXaXXXXXXgXeX!XX\"\n",
      "\n",
      "message = filter(lambda x: x != \"X\", garbled)\n",
      "\n",
      "print message\n"
     ],
     "language": "python",
     "metadata": {},
     "outputs": [
      {
       "output_type": "stream",
       "stream": "stdout",
       "text": [
        "I am another secret message!\n"
       ]
      }
     ],
     "prompt_number": 50
    },
    {
     "cell_type": "code",
     "collapsed": false,
     "input": [],
     "language": "python",
     "metadata": {},
     "outputs": []
    }
   ],
   "metadata": {}
  }
 ]
}